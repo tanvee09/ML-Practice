{
 "cells": [
  {
   "cell_type": "code",
   "execution_count": 1,
   "metadata": {},
   "outputs": [],
   "source": [
    "import numpy as np"
   ]
  },
  {
   "cell_type": "code",
   "execution_count": 7,
   "metadata": {},
   "outputs": [
    {
     "name": "stdout",
     "output_type": "stream",
     "text": [
      "(3, 3, 2, 1)\n"
     ]
    }
   ],
   "source": [
    "x = np.array([[[[1], [2]], [[3], [4]], [[1], [2]]], [[[5], [6]], [[7], [8]], [[5], [6]]], [[[3], [4]], [[3], [4]], [[3], [4]]]])\n",
    "# print(x)\n",
    "print(x.shape)"
   ]
  },
  {
   "cell_type": "code",
   "execution_count": 12,
   "metadata": {
    "scrolled": true
   },
   "outputs": [
    {
     "name": "stdout",
     "output_type": "stream",
     "text": [
      "(3, 4)\n",
      "[[ 0  1  2  3  4  5]\n",
      " [ 6  7  8  9 10 11]]\n",
      "(2, 6)\n"
     ]
    }
   ],
   "source": [
    "x = np.array([[0, 1, 2, 3], \n",
    "              [4, 5, 6, 7],\n",
    "              [8, 9, 10, 11]])\n",
    "print(x.shape)\n",
    "x = x.reshape((-1, 6))\n",
    "print(x)\n",
    "print(x.shape)"
   ]
  },
  {
   "cell_type": "markdown",
   "metadata": {},
   "source": [
    "### Tensors"
   ]
  },
  {
   "cell_type": "code",
   "execution_count": 23,
   "metadata": {},
   "outputs": [
    {
     "name": "stdout",
     "output_type": "stream",
     "text": [
      "[[[1 1 1]\n",
      "  [1 1 1]\n",
      "  [1 1 1]\n",
      "  [1 1 1]\n",
      "  [1 1 1]]\n",
      "\n",
      " [[1 1 1]\n",
      "  [1 1 1]\n",
      "  [1 1 1]\n",
      "  [1 1 1]\n",
      "  [1 1 1]]\n",
      "\n",
      " [[1 1 1]\n",
      "  [1 1 1]\n",
      "  [1 1 1]\n",
      "  [1 1 1]\n",
      "  [1 1 1]]\n",
      "\n",
      " [[1 1 1]\n",
      "  [1 1 1]\n",
      "  [1 1 1]\n",
      "  [1 1 1]\n",
      "  [1 1 1]]\n",
      "\n",
      " [[1 1 1]\n",
      "  [1 1 1]\n",
      "  [1 1 1]\n",
      "  [1 1 1]\n",
      "  [1 1 1]]]\n"
     ]
    }
   ],
   "source": [
    "T = np.ones((5, 5, 3), dtype = 'uint8') # 3 channels\n",
    "print(T)\n",
    "# T can be an image in which all pixels are 1"
   ]
  },
  {
   "cell_type": "code",
   "execution_count": 24,
   "metadata": {},
   "outputs": [],
   "source": [
    "import matplotlib.pyplot as plt"
   ]
  },
  {
   "cell_type": "code",
   "execution_count": 25,
   "metadata": {},
   "outputs": [
    {
     "data": {
      "image/png": "[encoded data removed]",
      "text/plain": [
       "<Figure size 432x288 with 1 Axes>"
      ]
     },
     "metadata": {
      "needs_background": "light"
     },
     "output_type": "display_data"
    }
   ],
   "source": [
    "plt.imshow(T)\n",
    "plt.show()"
   ]
  },
  {
   "cell_type": "code",
   "execution_count": 26,
   "metadata": {},
   "outputs": [
    {
     "data": {
      "image/png": "[encoded data removed]",
      "text/plain": [
       "<Figure size 432x288 with 1 Axes>"
      ]
     },
     "metadata": {
      "needs_background": "light"
     },
     "output_type": "display_data"
    }
   ],
   "source": [
    "T1 = T.copy()\n",
    "T1[:, :, 0] = 255\n",
    "plt.imshow(T1)\n",
    "plt.show()"
   ]
  },
  {
   "cell_type": "code",
   "execution_count": 27,
   "metadata": {},
   "outputs": [
    {
     "data": {
      "image/png": "[encoded data removed]",
      "text/plain": [
       "<Figure size 432x288 with 1 Axes>"
      ]
     },
     "metadata": {
      "needs_background": "light"
     },
     "output_type": "display_data"
    }
   ],
   "source": [
    "T2 = T.copy()\n",
    "T2[:, :, 1] = 255\n",
    "plt.imshow(T2)\n",
    "plt.show()"
   ]
  },
  {
   "cell_type": "code",
   "execution_count": 28,
   "metadata": {},
   "outputs": [
    {
     "data": {
      "image/png": "[encoded data removed]",
      "text/plain": [
       "<Figure size 432x288 with 1 Axes>"
      ]
     },
     "metadata": {
      "needs_background": "light"
     },
     "output_type": "display_data"
    }
   ],
   "source": [
    "T3 = T.copy()\n",
    "T3[:, :, 2] = 255\n",
    "plt.imshow(T3)\n",
    "plt.show()"
   ]
  },
  {
   "cell_type": "code",
   "execution_count": 29,
   "metadata": {},
   "outputs": [
    {
     "data": {
      "image/png": "[encoded data removed]",
      "text/plain": [
       "<Figure size 432x288 with 1 Axes>"
      ]
     },
     "metadata": {
      "needs_background": "light"
     },
     "output_type": "display_data"
    }
   ],
   "source": [
    "T3[4, 4, 1] = 255\n",
    "plt.imshow(T3)\n",
    "plt.show()"
   ]
  },
  {
   "cell_type": "code",
   "execution_count": 32,
   "metadata": {},
   "outputs": [
    {
     "name": "stdout",
     "output_type": "stream",
     "text": [
      "[[1 2 3]\n",
      " [4 5 6]\n",
      " [7 8 9]]\n",
      "[[1 4 7]\n",
      " [2 5 8]\n",
      " [3 6 9]]\n",
      "[[1]\n",
      " [2]\n",
      " [3]]\n",
      "[[1 2 3]]\n"
     ]
    }
   ],
   "source": [
    "a = np.array([[1, 2, 3], [4, 5, 6], [7, 8, 9]])\n",
    "print(a)\n",
    "print(a.T)\n",
    "b = np.array([[1], [2], [3]])\n",
    "print(b)\n",
    "print(b.T)"
   ]
  },
  {
   "cell_type": "code",
   "execution_count": 38,
   "metadata": {},
   "outputs": [
    {
     "name": "stdout",
     "output_type": "stream",
     "text": [
      "(50, 25, 3)\n"
     ]
    },
    {
     "data": {
      "image/png": "[encoded data removed]",
      "text/plain": [
       "<Figure size 432x288 with 1 Axes>"
      ]
     },
     "metadata": {
      "needs_background": "light"
     },
     "output_type": "display_data"
    }
   ],
   "source": [
    "# Transpose of a Tensor\n",
    "T = np.zeros((50, 25, 3), dtype = 'uint8')\n",
    "T[:, :, 2] = 255\n",
    "print(T.shape)\n",
    "plt.imshow(T)\n",
    "plt.show()\n",
    "# print(np.transpose(T, axis))"
   ]
  },
  {
   "cell_type": "code",
   "execution_count": 39,
   "metadata": {},
   "outputs": [
    {
     "name": "stdout",
     "output_type": "stream",
     "text": [
      "(50, 25, 3)\n",
      "[  0   0 255]\n"
     ]
    }
   ],
   "source": [
    "print(T.shape)\n",
    "print(T[0][0])"
   ]
  },
  {
   "cell_type": "code",
   "execution_count": 46,
   "metadata": {
    "scrolled": true
   },
   "outputs": [
    {
     "name": "stdout",
     "output_type": "stream",
     "text": [
      "(3, 25, 50)\n",
      "[0 0 0 0 0 0 0 0 0 0 0 0 0 0 0 0 0 0 0 0 0 0 0 0 0 0 0 0 0 0 0 0 0 0 0 0 0\n",
      " 0 0 0 0 0 0 0 0 0 0 0 0 0]\n",
      "(50,)\n",
      "(3, 50, 25)\n",
      "[0 0 0 0 0 0 0 0 0 0 0 0 0 0 0 0 0 0 0 0 0 0 0 0 0]\n",
      "(25,)\n"
     ]
    }
   ],
   "source": [
    "T1 = np.transpose(T)\n",
    "print(T1.shape)\n",
    "print(T1[0][0])\n",
    "print(T1[0][0].shape)\n",
    "T2 = np.transpose(T, axes = (2, 0, 1))\n",
    "print(T2.shape)\n",
    "print(T2[0][0])\n",
    "print(T2[0][0].shape)\n",
    "# T is channels-last\n",
    "# T1 is channels-first"
   ]
  },
  {
   "cell_type": "markdown",
   "metadata": {},
   "source": [
    "## Norms"
   ]
  },
  {
   "cell_type": "markdown",
   "metadata": {},
   "source": [
    "Norm is a function that maps to non-negative values. A norm satisfies the following properties:\n",
    "- f(x) = 0 => x = 0\n",
    "- f(x + y) <= f(x) + f(y) (Triangle inequality)\n",
    "- For every a E R, f(ax) = |a|f(x)"
   ]
  },
  {
   "cell_type": "markdown",
   "metadata": {},
   "source": [
    "L<sup>p</sup> = (sigma(|x(i)|<sup>p</sup>)<sup>1/p</sup>  \n",
    "L<sup>p</sup> norm --> ||x||<sup>p</sup>  "
   ]
  },
  {
   "cell_type": "markdown",
   "metadata": {},
   "source": [
    "L1 norm --> Absolute sum  \n",
    "L2 normalisation or Euclidean norm (denoted by ||x|| or ||x||<sup>2</sup>)    \n",
    "L2 = (sigma(|x(i)|<sup>2</sup>)<sup>1/2</sup> --> Size/Length of vector  \n",
    "<strong>Max-Norm: L<sup>infinity</sup>: </strong> This simplifies to absolute value of the element with highest magnitude"
   ]
  },
  {
   "cell_type": "markdown",
   "metadata": {},
   "source": [
    "- Squared L<sup>2</sup> can be computed by X<sup>T</sup>X\n",
    "- Derivate of squared L<sup>2</sup> norm is 2*x\n",
    "- In some ML applications, it is important to distinguish between elements that are zero and small but zero. Squared L<sup>2</sup> norm may not be the right choice as it grows very slow near the origin"
   ]
  },
  {
   "cell_type": "code",
   "execution_count": 68,
   "metadata": {},
   "outputs": [
    {
     "name": "stdout",
     "output_type": "stream",
     "text": [
      "5.0\n",
      "7.0\n",
      "4.0\n",
      "\n",
      "7.0\n",
      "6.0\n"
     ]
    }
   ],
   "source": [
    "x = np.array([3, -4])\n",
    "\n",
    "lp2 = np.linalg.norm(x)\n",
    "print(lp2)\n",
    "\n",
    "lp1 = np.linalg.norm(x, ord = 1)\n",
    "print(lp1)\n",
    "\n",
    "lpinf = np.linalg.norm(x, ord = np.inf)\n",
    "print(lpinf)\n",
    "\n",
    "print()\n",
    "\n",
    "mat = np.array([[2, -2, 1], [-1, 2, -1], [2, -4, 1]])\n",
    "print(np.linalg.norm(mat, ord = np.inf))\n",
    "print(np.linalg.norm(mat))"
   ]
  },
  {
   "cell_type": "code",
   "execution_count": 51,
   "metadata": {},
   "outputs": [
    {
     "name": "stdout",
     "output_type": "stream",
     "text": [
      "-2.0000000000000004\n"
     ]
    }
   ],
   "source": [
    "a = np.array([[1, 2], [3, 4]])\n",
    "print(np.linalg.det(a))"
   ]
  },
  {
   "cell_type": "code",
   "execution_count": 57,
   "metadata": {},
   "outputs": [
    {
     "name": "stdout",
     "output_type": "stream",
     "text": [
      "[[-2.   1. ]\n",
      " [ 1.5 -0.5]]\n",
      "[[1.0000000e+00 0.0000000e+00]\n",
      " [8.8817842e-16 1.0000000e+00]]\n"
     ]
    }
   ],
   "source": [
    "print(np.linalg.inv(a))\n",
    "print(a.dot(np.linalg.inv(a)))"
   ]
  },
  {
   "cell_type": "code",
   "execution_count": 58,
   "metadata": {},
   "outputs": [
    {
     "name": "stdout",
     "output_type": "stream",
     "text": [
      "[[-2.   1. ]\n",
      " [ 1.5 -0.5]]\n",
      "[[ 1.00000000e+00 -6.66133815e-16]\n",
      " [ 1.77635684e-15  1.00000000e+00]]\n"
     ]
    }
   ],
   "source": [
    "print(np.linalg.pinv(a))\n",
    "print(a.dot(np.linalg.pinv(a)))"
   ]
  },
  {
   "cell_type": "code",
   "execution_count": 59,
   "metadata": {},
   "outputs": [
    {
     "name": "stdout",
     "output_type": "stream",
     "text": [
      "[[0.048 0.024]\n",
      " [0.064 0.032]]\n",
      "[[0.8 0.4]\n",
      " [0.4 0.2]]\n"
     ]
    }
   ],
   "source": [
    "b = np.array([[6, 8], [3, 4]])\n",
    "print(np.linalg.pinv(b))\n",
    "print(b.dot(np.linalg.pinv(b)))"
   ]
  },
  {
   "cell_type": "markdown",
   "metadata": {},
   "source": [
    "### Solve System of Equations"
   ]
  },
  {
   "cell_type": "markdown",
   "metadata": {},
   "source": [
    "2x<sub>1</sub> + 3x<sub>2</sub> = 8  \n",
    "3x<sub>1</sub> + x<sub>2</sub> = 5"
   ]
  },
  {
   "cell_type": "code",
   "execution_count": 64,
   "metadata": {},
   "outputs": [
    {
     "name": "stdout",
     "output_type": "stream",
     "text": [
      "[1. 2.]\n",
      "[1. 2.]\n"
     ]
    }
   ],
   "source": [
    "A = np.array([[2, 3], [3, 1]])\n",
    "B = np.array([8, 5])\n",
    "\n",
    "print((np.linalg.pinv(A)).dot(B))\n",
    "\n",
    "print(np.linalg.solve(A, B))"
   ]
  },
  {
   "cell_type": "code",
   "execution_count": null,
   "metadata": {},
   "outputs": [],
   "source": []
  },
  {
   "cell_type": "code",
   "execution_count": 71,
   "metadata": {},
   "outputs": [
    {
     "name": "stdout",
     "output_type": "stream",
     "text": [
      "[[-1 15]\n",
      " [-9 26]\n",
      " [-2 11]\n",
      " [ 0  0]]\n"
     ]
    }
   ],
   "source": [
    "A = np.array([[1, -3, 4], [-2, 10, -7], [0, 1, 0], [0, 0, 0]])\n",
    "B = np.array([[5, 0], [-2, 11], [-3, 12]])\n",
    "print(A.dot(B))"
   ]
  },
  {
   "cell_type": "code",
   "execution_count": null,
   "metadata": {},
   "outputs": [],
   "source": []
  }
 ],
 "metadata": {
  "kernelspec": {
   "display_name": "Python 3",
   "language": "python",
   "name": "python3"
  },
  "language_info": {
   "codemirror_mode": {
    "name": "ipython",
    "version": 3
   },
   "file_extension": ".py",
   "mimetype": "text/x-python",
   "name": "python",
   "nbconvert_exporter": "python",
   "pygments_lexer": "ipython3",
   "version": "3.8.2"
  }
 },
 "nbformat": 4,
 "nbformat_minor": 4
}

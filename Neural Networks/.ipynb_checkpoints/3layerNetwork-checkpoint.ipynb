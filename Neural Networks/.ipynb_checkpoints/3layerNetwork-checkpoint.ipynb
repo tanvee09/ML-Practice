{
 "cells": [
  {
   "cell_type": "markdown",
   "metadata": {},
   "source": [
    "### Model parameters\n",
    "\n",
    "input_size = 2    # No. of features\n",
    "layers = [4, 3]   # No. of neurons in 1st and 2nd layer\n",
    "output_size = 2"
   ]
  },
  {
   "cell_type": "code",
   "execution_count": 2,
   "metadata": {},
   "outputs": [],
   "source": [
    "def softmax(x) :\n",
    "    '''\n",
    "    softmax(i) = e^(x(i)) / (e^x(0) + e^x(1) + ...)\n",
    "    '''\n",
    "    return np.exp(x) / np.sum(np.exp(x), axis = 1, keepdims = True)\n",
    "    # keepdims keeps it as a column vector, otherwise it becomes 1D (row vector)"
   ]
  },
  {
   "cell_type": "code",
   "execution_count": 2,
   "metadata": {},
   "outputs": [],
   "source": [
    "class NeuralNetwork :\n",
    "    \n",
    "    def __init__ (self, input_size, layers, output_size) :\n",
    "        np.random.seed(0) # For testing\n",
    "        \n",
    "        model = {}\n",
    "        \n",
    "        # First layer (hidden)\n",
    "        model['W1'] = np.random.randn(input_size, layers[0])\n",
    "        model['b1'] = np.zeros((1, layers[0]))\n",
    "        # Z(j)(l) = sigma(i) { W(i,j)(l) x a(i)(l-1) } + b(j)(l)\n",
    "                \n",
    "        #Second layer (hidden)\n",
    "        model['W2'] = np.random.randn(layers[0], layers[1])\n",
    "        model['b2'] = np.zeros((1, layers[1]))\n",
    "        \n",
    "        #Third layer (output)\n",
    "        model['W3'] = np.random.randn(layers[1], output_size)\n",
    "        model['b3'] = np.zeros((1, output_size))\n",
    "        \n",
    "        self.model = model\n",
    "        \n",
    "        \n",
    "    def forward (self, x) :\n",
    "        z1 = np.dot(x, self.model['W1']) + self.model['b1']\n",
    "        a1 = np.tanh(z1) # [-1, 1]\n",
    "        \n",
    "        z2 = np.dot(a1, self.model['W2']) + self.model['b2']\n",
    "        a2 = np.tanh(z2)\n",
    "        \n",
    "        z3 = np.dot(a2, self.model['W3']) + self.model['b3']\n",
    "        y_ = softmax(z3)\n",
    "        \n",
    "        \n",
    "    def backprop (self, x) :\n",
    "        pass\n",
    "        "
   ]
  },
  {
   "cell_type": "code",
   "execution_count": null,
   "metadata": {},
   "outputs": [],
   "source": []
  }
 ],
 "metadata": {
  "kernelspec": {
   "display_name": "Python 3",
   "language": "python",
   "name": "python3"
  },
  "language_info": {
   "codemirror_mode": {
    "name": "ipython",
    "version": 3
   },
   "file_extension": ".py",
   "mimetype": "text/x-python",
   "name": "python",
   "nbconvert_exporter": "python",
   "pygments_lexer": "ipython3",
   "version": "3.8.5"
  }
 },
 "nbformat": 4,
 "nbformat_minor": 4
}

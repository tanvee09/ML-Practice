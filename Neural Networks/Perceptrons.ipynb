{
 "cells": [
  {
   "cell_type": "code",
   "execution_count": 1,
   "metadata": {},
   "outputs": [],
   "source": [
    "import numpy as np\n",
    "import matplotlib.pyplot as plt\n",
    "from sklearn.datasets import make_blobs, make_moons"
   ]
  },
  {
   "cell_type": "markdown",
   "metadata": {},
   "source": [
    "## Generate Data"
   ]
  },
  {
   "cell_type": "code",
   "execution_count": 2,
   "metadata": {},
   "outputs": [
    {
     "name": "stdout",
     "output_type": "stream",
     "text": [
      "(500, 2) (500,)\n"
     ]
    }
   ],
   "source": [
    "X, Y = make_blobs(n_samples=500, n_features=2, centers=2, random_state=25)\n",
    "# X, Y = make_moons(n_samples=1000, shuffle=True, noise=0.2, random_state=25)\n",
    "print(X.shape, Y.shape)"
   ]
  },
  {
   "cell_type": "code",
   "execution_count": 3,
   "metadata": {},
   "outputs": [
    {
     "data": {
      "image/png": "[encoded data removed]",
      "text/plain": [
       "<Figure size 432x288 with 1 Axes>"
      ]
     },
     "metadata": {
      "needs_background": "light"
     },
     "output_type": "display_data"
    }
   ],
   "source": [
    "plt.scatter(X[:,0], X[:,1], c = Y)\n",
    "plt.show()"
   ]
  },
  {
   "cell_type": "markdown",
   "metadata": {},
   "source": [
    "## Model and Helper Functions"
   ]
  },
  {
   "cell_type": "code",
   "execution_count": 4,
   "metadata": {},
   "outputs": [],
   "source": [
    "def sigmoid(z) :\n",
    "    return (1.0) / (1 + np.exp(-z))"
   ]
  },
  {
   "cell_type": "markdown",
   "metadata": {},
   "source": [
    "### Implement perceptron learning algorithm\n",
    "- Learn the weights\n",
    "- Reduce the loss\n",
    "- Make the predictions"
   ]
  },
  {
   "cell_type": "code",
   "execution_count": 5,
   "metadata": {},
   "outputs": [],
   "source": [
    "def predict(X, weights) :\n",
    "    z = np.dot(X, weights)\n",
    "    predictions = sigmoid(z)\n",
    "    return predictions"
   ]
  },
  {
   "cell_type": "code",
   "execution_count": 6,
   "metadata": {},
   "outputs": [],
   "source": [
    "def loss(X, Y, weights) :\n",
    "    Y_ = predict(X, weights)\n",
    "    cost = np.mean(-Y * np.log(Y_) - (1 - Y) * np.log(1 - Y_))\n",
    "    return cost"
   ]
  },
  {
   "cell_type": "code",
   "execution_count": 7,
   "metadata": {},
   "outputs": [],
   "source": [
    "def update(X, Y, weights, learning_rate) :\n",
    "    Y_ = predict(X, weights)\n",
    "    dw = np.dot(X.T, Y_ - Y)\n",
    "    \n",
    "    m = X.shape[0]\n",
    "    weights = weights - learning_rate * dw / (float(m))\n",
    "    return weights"
   ]
  },
  {
   "cell_type": "code",
   "execution_count": 8,
   "metadata": {},
   "outputs": [],
   "source": [
    "def train(X, Y, learning_rate = 0.5, maxEpochs = 100) :\n",
    "    m = X.shape[0]\n",
    "    \n",
    "    # Modify input to handle bias\n",
    "    ones = np.ones((m, 1))\n",
    "    X = np.hstack((ones, X))\n",
    "    \n",
    "    n = X.shape[1]\n",
    "    \n",
    "    #Initialise weights\n",
    "    weights = np.zeros(n)\n",
    "    \n",
    "    for epoch in range(maxEpochs) :\n",
    "        weights = update(X, Y, weights, learning_rate)\n",
    "        \n",
    "        if epoch % 10 == 0 :\n",
    "            l = loss(X, Y, weights)\n",
    "            print(\"Epoch %3d  Loss %.4f\"%(epoch, l))\n",
    "            \n",
    "    return weights"
   ]
  },
  {
   "cell_type": "code",
   "execution_count": 9,
   "metadata": {},
   "outputs": [
    {
     "name": "stdout",
     "output_type": "stream",
     "text": [
      "Epoch   0  Loss 0.0000\n",
      "Epoch  10  Loss 0.0000\n",
      "Epoch  20  Loss 0.0000\n",
      "Epoch  30  Loss 0.0000\n",
      "Epoch  40  Loss 0.0000\n",
      "Epoch  50  Loss 0.0000\n",
      "Epoch  60  Loss 0.0000\n",
      "Epoch  70  Loss 0.0000\n",
      "Epoch  80  Loss 0.0000\n",
      "Epoch  90  Loss 0.0000\n",
      "Epoch 100  Loss 0.0000\n",
      "Epoch 110  Loss 0.0000\n",
      "Epoch 120  Loss 0.0000\n",
      "Epoch 130  Loss 0.0000\n",
      "Epoch 140  Loss 0.0000\n",
      "Epoch 150  Loss 0.0000\n",
      "Epoch 160  Loss 0.0000\n",
      "Epoch 170  Loss 0.0000\n",
      "Epoch 180  Loss 0.0000\n",
      "Epoch 190  Loss 0.0000\n",
      "Epoch 200  Loss 0.0000\n",
      "Epoch 210  Loss 0.0000\n",
      "Epoch 220  Loss 0.0000\n",
      "Epoch 230  Loss 0.0000\n",
      "Epoch 240  Loss 0.0000\n",
      "Epoch 250  Loss 0.0000\n",
      "Epoch 260  Loss 0.0000\n",
      "Epoch 270  Loss 0.0000\n",
      "Epoch 280  Loss 0.0000\n",
      "Epoch 290  Loss 0.0000\n",
      "Epoch 300  Loss 0.0000\n",
      "Epoch 310  Loss 0.0000\n",
      "Epoch 320  Loss 0.0000\n",
      "Epoch 330  Loss 0.0000\n",
      "Epoch 340  Loss 0.0000\n",
      "Epoch 350  Loss 0.0000\n",
      "Epoch 360  Loss 0.0000\n",
      "Epoch 370  Loss 0.0000\n",
      "Epoch 380  Loss 0.0000\n",
      "Epoch 390  Loss 0.0000\n",
      "Epoch 400  Loss 0.0000\n",
      "Epoch 410  Loss 0.0000\n",
      "Epoch 420  Loss 0.0000\n",
      "Epoch 430  Loss 0.0000\n",
      "Epoch 440  Loss 0.0000\n",
      "Epoch 450  Loss 0.0000\n",
      "Epoch 460  Loss 0.0000\n",
      "Epoch 470  Loss 0.0000\n",
      "Epoch 480  Loss 0.0000\n",
      "Epoch 490  Loss 0.0000\n"
     ]
    }
   ],
   "source": [
    "wts = train(X, Y, maxEpochs=500, learning_rate = 0.8)"
   ]
  },
  {
   "cell_type": "code",
   "execution_count": 10,
   "metadata": {},
   "outputs": [
    {
     "name": "stdout",
     "output_type": "stream",
     "text": [
      "[ 4.62681920e-05 -2.35078318e+00 -1.56774161e+00]\n"
     ]
    }
   ],
   "source": [
    "print(wts)"
   ]
  },
  {
   "cell_type": "markdown",
   "metadata": {},
   "source": [
    "## Make predictions"
   ]
  },
  {
   "cell_type": "code",
   "execution_count": 11,
   "metadata": {},
   "outputs": [],
   "source": [
    "def getPredictions(X_Test, weights, labels = True) :\n",
    "    if X_Test.shape[1] != weights.shape[0] :\n",
    "        ones = np.ones((X_Test.shape[0], 1))\n",
    "        X_Test = np.hstack((ones, X_Test))\n",
    "        \n",
    "    probs = predict(X_Test, weights)\n",
    "    \n",
    "    if labels :\n",
    "        lbl = np.zeros(probs.shape)\n",
    "        lbl[probs >= 0.5] = 1\n",
    "        return lbl\n",
    "    else :\n",
    "        return probs"
   ]
  },
  {
   "cell_type": "markdown",
   "metadata": {},
   "source": [
    "## Plotting decision boundary"
   ]
  },
  {
   "cell_type": "code",
   "execution_count": 12,
   "metadata": {},
   "outputs": [],
   "source": [
    "x1 = np.linspace(-8, 10, 10)\n",
    "x2 = -(wts[0] + wts[1] * x1) / wts[2]"
   ]
  },
  {
   "cell_type": "code",
   "execution_count": 13,
   "metadata": {},
   "outputs": [
    {
     "data": {
      "image/png": "[encoded data removed]",
      "text/plain": [
       "<Figure size 432x288 with 1 Axes>"
      ]
     },
     "metadata": {
      "needs_background": "light"
     },
     "output_type": "display_data"
    }
   ],
   "source": [
    "plt.scatter(X[:,0], X[:,1], c = Y)\n",
    "plt.plot(x1, x2, c = 'red')\n",
    "plt.show()"
   ]
  },
  {
   "cell_type": "markdown",
   "metadata": {},
   "source": [
    "## Finding accuracy"
   ]
  },
  {
   "cell_type": "code",
   "execution_count": 14,
   "metadata": {},
   "outputs": [
    {
     "name": "stdout",
     "output_type": "stream",
     "text": [
      "100.0\n"
     ]
    }
   ],
   "source": [
    "Y_ = getPredictions(X, wts)\n",
    "training_acc = np.sum(Y_ == Y) / Y.shape[0]\n",
    "print(training_acc * 100)"
   ]
  },
  {
   "cell_type": "code",
   "execution_count": null,
   "metadata": {},
   "outputs": [],
   "source": []
  }
 ],
 "metadata": {
  "kernelspec": {
   "display_name": "Python 3",
   "language": "python",
   "name": "python3"
  },
  "language_info": {
   "codemirror_mode": {
    "name": "ipython",
    "version": 3
   },
   "file_extension": ".py",
   "mimetype": "text/x-python",
   "name": "python",
   "nbconvert_exporter": "python",
   "pygments_lexer": "ipython3",
   "version": "3.8.5"
  }
 },
 "nbformat": 4,
 "nbformat_minor": 4
}

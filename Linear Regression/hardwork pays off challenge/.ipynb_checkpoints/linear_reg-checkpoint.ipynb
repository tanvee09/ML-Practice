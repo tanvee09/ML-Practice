{
 "cells": [
  {
   "cell_type": "markdown",
   "metadata": {},
   "source": [
    "- Download\n",
    "- Load\n",
    "- Visualise\n",
    "- Normalisation"
   ]
  },
  {
   "cell_type": "code",
   "execution_count": 1,
   "metadata": {},
   "outputs": [],
   "source": [
    "import numpy as np\n",
    "import matplotlib.pyplot as plt\n",
    "import pandas as pd"
   ]
  },
  {
   "cell_type": "code",
   "execution_count": 2,
   "metadata": {},
   "outputs": [
    {
     "name": "stdout",
     "output_type": "stream",
     "text": [
      "(3750, 1)\n",
      "(3750, 1)\n"
     ]
    }
   ],
   "source": [
    "dfx = pd.read_csv('./train/Linear_X_Train.csv')\n",
    "dfy = pd.read_csv('./train/Linear_Y_Train.csv')\n",
    "\n",
    "print(dfx.shape)\n",
    "print(dfy.shape)"
   ]
  },
  {
   "cell_type": "code",
   "execution_count": 3,
   "metadata": {},
   "outputs": [
    {
     "data": {
      "text/html": [
       "<div>\n",
       "<style scoped>\n",
       "    .dataframe tbody tr th:only-of-type {\n",
       "        vertical-align: middle;\n",
       "    }\n",
       "\n",
       "    .dataframe tbody tr th {\n",
       "        vertical-align: top;\n",
       "    }\n",
       "\n",
       "    .dataframe thead th {\n",
       "        text-align: right;\n",
       "    }\n",
       "</style>\n",
       "<table border=\"1\" class=\"dataframe\">\n",
       "  <thead>\n",
       "    <tr style=\"text-align: right;\">\n",
       "      <th></th>\n",
       "      <th>x</th>\n",
       "    </tr>\n",
       "  </thead>\n",
       "  <tbody>\n",
       "    <tr>\n",
       "      <th>0</th>\n",
       "      <td>-0.289307</td>\n",
       "    </tr>\n",
       "    <tr>\n",
       "      <th>1</th>\n",
       "      <td>-0.588810</td>\n",
       "    </tr>\n",
       "    <tr>\n",
       "      <th>2</th>\n",
       "      <td>1.027507</td>\n",
       "    </tr>\n",
       "    <tr>\n",
       "      <th>3</th>\n",
       "      <td>-0.259013</td>\n",
       "    </tr>\n",
       "    <tr>\n",
       "      <th>4</th>\n",
       "      <td>0.782043</td>\n",
       "    </tr>\n",
       "    <tr>\n",
       "      <th>5</th>\n",
       "      <td>-1.675230</td>\n",
       "    </tr>\n",
       "    <tr>\n",
       "      <th>6</th>\n",
       "      <td>-0.746080</td>\n",
       "    </tr>\n",
       "    <tr>\n",
       "      <th>7</th>\n",
       "      <td>1.979400</td>\n",
       "    </tr>\n",
       "    <tr>\n",
       "      <th>8</th>\n",
       "      <td>0.766941</td>\n",
       "    </tr>\n",
       "    <tr>\n",
       "      <th>9</th>\n",
       "      <td>-0.605719</td>\n",
       "    </tr>\n",
       "  </tbody>\n",
       "</table>\n",
       "</div>"
      ],
      "text/plain": [
       "          x\n",
       "0 -0.289307\n",
       "1 -0.588810\n",
       "2  1.027507\n",
       "3 -0.259013\n",
       "4  0.782043\n",
       "5 -1.675230\n",
       "6 -0.746080\n",
       "7  1.979400\n",
       "8  0.766941\n",
       "9 -0.605719"
      ]
     },
     "execution_count": 3,
     "metadata": {},
     "output_type": "execute_result"
    }
   ],
   "source": [
    "dfx.head(n = 10)\n"
   ]
  },
  {
   "cell_type": "code",
   "execution_count": 4,
   "metadata": {},
   "outputs": [
    {
     "data": {
      "text/html": [
       "<div>\n",
       "<style scoped>\n",
       "    .dataframe tbody tr th:only-of-type {\n",
       "        vertical-align: middle;\n",
       "    }\n",
       "\n",
       "    .dataframe tbody tr th {\n",
       "        vertical-align: top;\n",
       "    }\n",
       "\n",
       "    .dataframe thead th {\n",
       "        text-align: right;\n",
       "    }\n",
       "</style>\n",
       "<table border=\"1\" class=\"dataframe\">\n",
       "  <thead>\n",
       "    <tr style=\"text-align: right;\">\n",
       "      <th></th>\n",
       "      <th>y</th>\n",
       "    </tr>\n",
       "  </thead>\n",
       "  <tbody>\n",
       "    <tr>\n",
       "      <th>0</th>\n",
       "      <td>-0.091101</td>\n",
       "    </tr>\n",
       "    <tr>\n",
       "      <th>1</th>\n",
       "      <td>-53.467721</td>\n",
       "    </tr>\n",
       "    <tr>\n",
       "      <th>2</th>\n",
       "      <td>75.457009</td>\n",
       "    </tr>\n",
       "    <tr>\n",
       "      <th>3</th>\n",
       "      <td>-12.025286</td>\n",
       "    </tr>\n",
       "    <tr>\n",
       "      <th>4</th>\n",
       "      <td>57.414187</td>\n",
       "    </tr>\n",
       "  </tbody>\n",
       "</table>\n",
       "</div>"
      ],
      "text/plain": [
       "           y\n",
       "0  -0.091101\n",
       "1 -53.467721\n",
       "2  75.457009\n",
       "3 -12.025286\n",
       "4  57.414187"
      ]
     },
     "execution_count": 4,
     "metadata": {},
     "output_type": "execute_result"
    }
   ],
   "source": [
    "dfy.head()"
   ]
  },
  {
   "cell_type": "code",
   "execution_count": 5,
   "metadata": {},
   "outputs": [],
   "source": [
    "X = dfx.values\n",
    "y = dfy.values"
   ]
  },
  {
   "cell_type": "code",
   "execution_count": 6,
   "metadata": {},
   "outputs": [
    {
     "name": "stdout",
     "output_type": "stream",
     "text": [
      "(3750, 1)\n",
      "(3750, 1)\n",
      "[[-0.28930742]\n",
      " [-0.58880963]\n",
      " [ 1.02750749]\n",
      " ...\n",
      " [-0.30516366]\n",
      " [ 1.67583291]\n",
      " [-0.49175724]]\n",
      "[[-9.11011171e-02]\n",
      " [-5.34677208e+01]\n",
      " [ 7.54570088e+01]\n",
      " ...\n",
      " [-3.49832749e+01]\n",
      " [ 1.45206092e+02]\n",
      " [-1.71244939e+01]]\n"
     ]
    }
   ],
   "source": [
    "print(X.shape)\n",
    "print(y.shape)\n",
    "\n",
    "print(X)\n",
    "print(y)"
   ]
  },
  {
   "cell_type": "markdown",
   "metadata": {},
   "source": [
    "## Visualisation"
   ]
  },
  {
   "cell_type": "code",
   "execution_count": 7,
   "metadata": {},
   "outputs": [
    {
     "data": {
      "image/png": "[encoded data removed]",
      "text/plain": [
       "<Figure size 576x396 with 1 Axes>"
      ]
     },
     "metadata": {},
     "output_type": "display_data"
    }
   ],
   "source": [
    "plt.style.use(\"seaborn\")\n",
    "plt.scatter(X, y)\n",
    "plt.title(\"Time Spent vs Performance Graph\")\n",
    "plt.xlabel(\"Time Spent\")\n",
    "plt.ylabel(\"Performance\")\n",
    "plt.show()"
   ]
  },
  {
   "cell_type": "markdown",
   "metadata": {},
   "source": [
    "Clearly, the problem can be solved using linear regression."
   ]
  },
  {
   "cell_type": "markdown",
   "metadata": {},
   "source": [
    "## Normalisation"
   ]
  },
  {
   "cell_type": "code",
   "execution_count": 8,
   "metadata": {},
   "outputs": [],
   "source": [
    "u = X.mean()\n",
    "std = X.std()"
   ]
  },
  {
   "cell_type": "code",
   "execution_count": 9,
   "metadata": {},
   "outputs": [
    {
     "name": "stdout",
     "output_type": "stream",
     "text": [
      "-0.03779466168006855\n",
      "0.9920801322508517\n"
     ]
    }
   ],
   "source": [
    "print(u)\n",
    "print(std)"
   ]
  },
  {
   "cell_type": "markdown",
   "metadata": {},
   "source": [
    "Since std is close to 1, data is already normalised."
   ]
  },
  {
   "cell_type": "markdown",
   "metadata": {},
   "source": [
    "X = (X - u) / std"
   ]
  },
  {
   "cell_type": "markdown",
   "metadata": {},
   "source": [
    "X"
   ]
  },
  {
   "cell_type": "markdown",
   "metadata": {},
   "source": [
    "# Linear Regression"
   ]
  },
  {
   "cell_type": "markdown",
   "metadata": {},
   "source": [
    "Only for single feature problems"
   ]
  },
  {
   "cell_type": "code",
   "execution_count": 10,
   "metadata": {},
   "outputs": [],
   "source": [
    "def hypothesis(x, theta) :\n",
    "    # theta = [theta0, theta1]\n",
    "    y_ = theta[0] + theta[1] * x\n",
    "    return y_"
   ]
  },
  {
   "cell_type": "code",
   "execution_count": 11,
   "metadata": {},
   "outputs": [],
   "source": [
    "def gradient(X, Y, theta) :\n",
    "    m = X.shape[0]\n",
    "    grad = np.zeros((2,))\n",
    "    for i in range(m) :\n",
    "        x = X[i]\n",
    "        y_ = hypothesis(x, theta)\n",
    "        y = Y[i]\n",
    "        grad[0] = (y_ - y)\n",
    "        grad[1] = (y_ - y) * x\n",
    "    return grad / m"
   ]
  },
  {
   "cell_type": "code",
   "execution_count": 31,
   "metadata": {},
   "outputs": [],
   "source": [
    "def error(X, Y, theta) :\n",
    "    m = X.shape[0]\n",
    "    total_error = 0.0\n",
    "    for i in range(m) :\n",
    "        x = X[i]\n",
    "        y_ = hypothesis(x, theta)\n",
    "        y = Y[i]\n",
    "        total_error += (y_ - y) ** 2\n",
    "    return total_error / m"
   ]
  },
  {
   "cell_type": "code",
   "execution_count": 32,
   "metadata": {},
   "outputs": [],
   "source": [
    "def gradientDescent(X, Y, max_steps = 100,learning_rate = 0.1) :\n",
    "    theta = np.zeros((2, ))\n",
    "    error_list = []\n",
    "    for i in range(max_steps) :\n",
    "        x = X[i]\n",
    "        grad = gradient(X, Y, theta)\n",
    "        e = error(X, Y, theta)\n",
    "        error_list.append(e)\n",
    "        theta[0] = theta[0] - learning_rate * grad[0]\n",
    "        theta[1] = theta[1] - learning_rate * grad[1]\n",
    "    return theta, error_list"
   ]
  },
  {
   "cell_type": "code",
   "execution_count": 33,
   "metadata": {},
   "outputs": [],
   "source": [
    "theta, error_list = gradientDescent(X, y)"
   ]
  },
  {
   "cell_type": "code",
   "execution_count": 34,
   "metadata": {
    "scrolled": true
   },
   "outputs": [
    {
     "name": "stdout",
     "output_type": "stream",
     "text": [
      "[-0.04559054  0.02241948]\n"
     ]
    }
   ],
   "source": [
    "print(theta)"
   ]
  },
  {
   "cell_type": "code",
   "execution_count": 29,
   "metadata": {},
   "outputs": [
    {
     "data": {
      "text/plain": [
       "[array([3288.17502623]),\n",
       " array([3288.15754274]),\n",
       " array([3288.14006009]),\n",
       " array([3288.12257829]),\n",
       " array([3288.10509734]),\n",
       " array([3288.08761722]),\n",
       " array([3288.07013796]),\n",
       " array([3288.05265953]),\n",
       " array([3288.03518196]),\n",
       " array([3288.01770522]),\n",
       " array([3288.00022933]),\n",
       " array([3287.98275429]),\n",
       " array([3287.96528009]),\n",
       " array([3287.94780674]),\n",
       " array([3287.93033423]),\n",
       " array([3287.91286256]),\n",
       " array([3287.89539174]),\n",
       " array([3287.87792176]),\n",
       " array([3287.86045263]),\n",
       " array([3287.84298434]),\n",
       " array([3287.82551689]),\n",
       " array([3287.80805029]),\n",
       " array([3287.79058453]),\n",
       " array([3287.77311962]),\n",
       " array([3287.75565555]),\n",
       " array([3287.73819233]),\n",
       " array([3287.72072995]),\n",
       " array([3287.70326841]),\n",
       " array([3287.68580771]),\n",
       " array([3287.66834786]),\n",
       " array([3287.65088886]),\n",
       " array([3287.6334307]),\n",
       " array([3287.61597338]),\n",
       " array([3287.5985169]),\n",
       " array([3287.58106127]),\n",
       " array([3287.56360648]),\n",
       " array([3287.54615253]),\n",
       " array([3287.52869943]),\n",
       " array([3287.51124717]),\n",
       " array([3287.49379576]),\n",
       " array([3287.47634519]),\n",
       " array([3287.45889546]),\n",
       " array([3287.44144657]),\n",
       " array([3287.42399853]),\n",
       " array([3287.40655133]),\n",
       " array([3287.38910497]),\n",
       " array([3287.37165946]),\n",
       " array([3287.35421479]),\n",
       " array([3287.33677096]),\n",
       " array([3287.31932797]),\n",
       " array([3287.30188583]),\n",
       " array([3287.28444453]),\n",
       " array([3287.26700407]),\n",
       " array([3287.24956446]),\n",
       " array([3287.23212569]),\n",
       " array([3287.21468776]),\n",
       " array([3287.19725067]),\n",
       " array([3287.17981443]),\n",
       " array([3287.16237903]),\n",
       " array([3287.14494447]),\n",
       " array([3287.12751075]),\n",
       " array([3287.11007787]),\n",
       " array([3287.09264584]),\n",
       " array([3287.07521465]),\n",
       " array([3287.0577843]),\n",
       " array([3287.04035479]),\n",
       " array([3287.02292613]),\n",
       " array([3287.00549831]),\n",
       " array([3286.98807133]),\n",
       " array([3286.97064519]),\n",
       " array([3286.95321989]),\n",
       " array([3286.93579544]),\n",
       " array([3286.91837182]),\n",
       " array([3286.90094905]),\n",
       " array([3286.88352712]),\n",
       " array([3286.86610603]),\n",
       " array([3286.84868579]),\n",
       " array([3286.83126638]),\n",
       " array([3286.81384782]),\n",
       " array([3286.7964301]),\n",
       " array([3286.77901322]),\n",
       " array([3286.76159718]),\n",
       " array([3286.74418198]),\n",
       " array([3286.72676762]),\n",
       " array([3286.70935411]),\n",
       " array([3286.69194143]),\n",
       " array([3286.6745296]),\n",
       " array([3286.6571186]),\n",
       " array([3286.63970845]),\n",
       " array([3286.62229914]),\n",
       " array([3286.60489067]),\n",
       " array([3286.58748305]),\n",
       " array([3286.57007626]),\n",
       " array([3286.55267031]),\n",
       " array([3286.53526521]),\n",
       " array([3286.51786094]),\n",
       " array([3286.50045752]),\n",
       " array([3286.48305493]),\n",
       " array([3286.46565319]),\n",
       " array([3286.44825229])]"
      ]
     },
     "execution_count": 29,
     "metadata": {},
     "output_type": "execute_result"
    }
   ],
   "source": [
    "error_list"
   ]
  },
  {
   "cell_type": "code",
   "execution_count": 30,
   "metadata": {},
   "outputs": [
    {
     "data": {
      "image/png": "[encoded data removed]",
      "text/plain": [
       "<Figure size 576x396 with 1 Axes>"
      ]
     },
     "metadata": {},
     "output_type": "display_data"
    }
   ],
   "source": [
    "plt.plot(error_list)\n",
    "plt.show()"
   ]
  },
  {
   "cell_type": "code",
   "execution_count": null,
   "metadata": {},
   "outputs": [],
   "source": []
  }
 ],
 "metadata": {
  "kernelspec": {
   "display_name": "Python 3",
   "language": "python",
   "name": "python3"
  },
  "language_info": {
   "codemirror_mode": {
    "name": "ipython",
    "version": 3
   },
   "file_extension": ".py",
   "mimetype": "text/x-python",
   "name": "python",
   "nbconvert_exporter": "python",
   "pygments_lexer": "ipython3",
   "version": "3.8.2"
  }
 },
 "nbformat": 4,
 "nbformat_minor": 4
}

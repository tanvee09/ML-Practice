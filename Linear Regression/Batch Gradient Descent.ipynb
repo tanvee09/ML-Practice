{
 "cells": [
  {
   "cell_type": "markdown",
   "metadata": {},
   "source": [
    "Suppose we have 10GB of images and only 1GB RAM.  \n",
    "We pick a batch, calculate gradient over it, and update theta. But we go over all batches in one iteration/epoch.  "
   ]
  },
  {
   "cell_type": "code",
   "execution_count": 1,
   "metadata": {},
   "outputs": [],
   "source": [
    "# for e in range(max_epoch) :  => Entire data is being iterated in one epoch but gradient is being calculated in batches\n",
    "#     shuffle(data)  \n",
    "#     for batch in all_batches :  \n",
    "#         X', y' = load_batch  \n",
    "#         grad = calc_grad(X', y')  \n",
    "#         theta = theta - LR * grad  => Frequency of updates has increased\n",
    "#                                    => Faster convergence (how?)\n",
    "#                                    => Overall complexity remains same since we are doing thr same amount of work in one epoch"
   ]
  },
  {
   "cell_type": "code",
   "execution_count": null,
   "metadata": {},
   "outputs": [],
   "source": [
    "# Updates can be noisy but we'll reach local minima faster since frequency of updates has increased"
   ]
  },
  {
   "cell_type": "markdown",
   "metadata": {},
   "source": [
    "1) Faster convergence  \n",
    "2.a) Noisy updates help to avoid local minima (NN, DL)  \n",
    "2.b) More robust convergence  \n",
    "3) Can use vectorisation (can't use in stochastic GD)  \n",
    "4) No need to load entire data into the memory at the same time  "
   ]
  },
  {
   "cell_type": "markdown",
   "metadata": {},
   "source": [
    "## Mini Batch Gradient Descent"
   ]
  },
  {
   "cell_type": "code",
   "execution_count": 3,
   "metadata": {},
   "outputs": [],
   "source": [
    "import numpy as np\n",
    "import matplotlib.pyplot as plt\n",
    "from sklearn.datasets import load_boston\n",
    "from sklearn.datasets import make_regression"
   ]
  },
  {
   "cell_type": "code",
   "execution_count": 4,
   "metadata": {},
   "outputs": [],
   "source": [
    "X, y = make_regression(n_samples = 10000, n_features = 20, n_informative = 20, noise = 10, random_state = 1)\n",
    "\n",
    "u = np.mean(X, axis = 0)\n",
    "std = np.std(X, axis = 0)\n",
    "X = (X - u) / std"
   ]
  },
  {
   "cell_type": "code",
   "execution_count": 5,
   "metadata": {},
   "outputs": [
    {
     "name": "stdout",
     "output_type": "stream",
     "text": [
      "(10000, 21)\n",
      "(10000,)\n"
     ]
    }
   ],
   "source": [
    "ones = np.ones((X.shape[0], 1))\n",
    "X = np.hstack((ones, X))\n",
    "print(X.shape)\n",
    "print(y.shape)"
   ]
  },
  {
   "cell_type": "code",
   "execution_count": 6,
   "metadata": {},
   "outputs": [],
   "source": [
    "def hypothesis(X, theta) :\n",
    "    return np.dot(X, theta)"
   ]
  },
  {
   "cell_type": "code",
   "execution_count": 7,
   "metadata": {},
   "outputs": [],
   "source": [
    "def error(X, y, theta) :\n",
    "    y_ = hypothesis(X, theta)\n",
    "    m = X.shape[0]\n",
    "    e = np.sum((y_ - y) ** 2)\n",
    "    return e / m"
   ]
  },
  {
   "cell_type": "code",
   "execution_count": 8,
   "metadata": {},
   "outputs": [],
   "source": [
    "def gradient(X, y, theta) :\n",
    "    y_ = hypothesis(X, theta)\n",
    "    grad = np.dot(X.T, (y_ - y))\n",
    "    m = X.shape[0]\n",
    "    return grad / m"
   ]
  },
  {
   "cell_type": "code",
   "execution_count": 84,
   "metadata": {},
   "outputs": [],
   "source": [
    "def gradient_descent(X, y, batch_size = 200, learning_rate = 0.01, max_iters = 10) :\n",
    "    # Batch size = 1 -> Stochastic GD,  Batch size = m -> Batch GD\n",
    "    m, n = X.shape\n",
    "    theta = np.zeros((n, ))\n",
    "    error_list = []\n",
    "    \n",
    "    # Actually data is loaded in batched when it it needed using generators or something, and not entire data at once\n",
    "    data = np.hstack((X, y.reshape(-1, 1)))\n",
    "    \n",
    "    for i in range(max_iters) :\n",
    "        np.random.shuffle(data)\n",
    "        total_batches = m // batch_size\n",
    "        \n",
    "        \n",
    "        # Batch Gradient Descent\n",
    "        # grad = gradient(X, y, theta)\n",
    "        # theta = theta - learning_rate * grad\n",
    "        \n",
    "        # Mini Batch GD\n",
    "        for j in range(total_batches) :\n",
    "            batch_data = data[j * batch_size : (j + 1) * batch_size, : ]\n",
    "            x_batch = batch_data[:, : -1]\n",
    "            y_batch = batch_data[:, -1]\n",
    "            grad = gradient(x_batch, y_batch, theta)\n",
    "            theta = theta - learning_rate * grad\n",
    "            e = error(x_batch, y_batch, theta)\n",
    "            error_list.append(e)\n",
    "            \n",
    "    return theta, error_list"
   ]
  },
  {
   "cell_type": "code",
   "execution_count": 85,
   "metadata": {},
   "outputs": [],
   "source": [
    "def r2_score(y, y_) :\n",
    "    num = np.sum((y - y_) ** 2)\n",
    "    denom = np.sum((y - y.mean()) ** 2)\n",
    "    return (1 - num / denom)"
   ]
  },
  {
   "cell_type": "code",
   "execution_count": 86,
   "metadata": {},
   "outputs": [],
   "source": [
    "theta, error_list = gradient_descent(X, y)"
   ]
  },
  {
   "cell_type": "code",
   "execution_count": 87,
   "metadata": {},
   "outputs": [
    {
     "data": {
      "image/png": "[encoded data removed]",
      "text/plain": [
       "<Figure size 432x288 with 1 Axes>"
      ]
     },
     "metadata": {
      "needs_background": "light"
     },
     "output_type": "display_data"
    }
   ],
   "source": [
    "plt.plot(np.arange(len(error_list)), error_list)\n",
    "plt.show()"
   ]
  },
  {
   "cell_type": "code",
   "execution_count": 88,
   "metadata": {},
   "outputs": [
    {
     "name": "stdout",
     "output_type": "stream",
     "text": [
      "63942.81375288129 101.7973840717728\n"
     ]
    }
   ],
   "source": [
    "print(error_list[0], error_list[-1])"
   ]
  },
  {
   "cell_type": "code",
   "execution_count": null,
   "metadata": {},
   "outputs": [],
   "source": []
  }
 ],
 "metadata": {
  "kernelspec": {
   "display_name": "Python 3",
   "language": "python",
   "name": "python3"
  },
  "language_info": {
   "codemirror_mode": {
    "name": "ipython",
    "version": 3
   },
   "file_extension": ".py",
   "mimetype": "text/x-python",
   "name": "python",
   "nbconvert_exporter": "python",
   "pygments_lexer": "ipython3",
   "version": "3.8.2"
  }
 },
 "nbformat": 4,
 "nbformat_minor": 4
}

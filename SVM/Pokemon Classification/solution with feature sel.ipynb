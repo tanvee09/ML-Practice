{
 "cells": [
  {
   "cell_type": "code",
   "execution_count": 271,
   "metadata": {},
   "outputs": [],
   "source": [
    "import numpy as np\n",
    "import os\n",
    "from pathlib import Path\n",
    "from keras.preprocessing import image\n",
    "import matplotlib.pyplot as plt\n",
    "import pandas as pd"
   ]
  },
  {
   "cell_type": "code",
   "execution_count": 272,
   "metadata": {},
   "outputs": [],
   "source": [
    "p = Path('./train/Images/')"
   ]
  },
  {
   "cell_type": "code",
   "execution_count": 273,
   "metadata": {},
   "outputs": [
    {
     "name": "stdout",
     "output_type": "stream",
     "text": [
      "train/Images <class 'pathlib.PosixPath'>\n"
     ]
    }
   ],
   "source": [
    "print(p, type(p))"
   ]
  },
  {
   "cell_type": "code",
   "execution_count": 274,
   "metadata": {},
   "outputs": [],
   "source": [
    "labels_dict = {\n",
    "    'Pikachu': 0,\n",
    "    'Bulbasaur': 1,\n",
    "    'Charmander': 2\n",
    "}"
   ]
  },
  {
   "cell_type": "code",
   "execution_count": 275,
   "metadata": {},
   "outputs": [],
   "source": [
    "df = pd.read_csv('./train/train.csv')"
   ]
  },
  {
   "cell_type": "code",
   "execution_count": 276,
   "metadata": {},
   "outputs": [
    {
     "data": {
      "text/html": [
       "<div>\n",
       "<style scoped>\n",
       "    .dataframe tbody tr th:only-of-type {\n",
       "        vertical-align: middle;\n",
       "    }\n",
       "\n",
       "    .dataframe tbody tr th {\n",
       "        vertical-align: top;\n",
       "    }\n",
       "\n",
       "    .dataframe thead th {\n",
       "        text-align: right;\n",
       "    }\n",
       "</style>\n",
       "<table border=\"1\" class=\"dataframe\">\n",
       "  <thead>\n",
       "    <tr style=\"text-align: right;\">\n",
       "      <th></th>\n",
       "      <th>ImageId</th>\n",
       "      <th>NameOfPokemon</th>\n",
       "    </tr>\n",
       "  </thead>\n",
       "  <tbody>\n",
       "    <tr>\n",
       "      <th>0</th>\n",
       "      <td>296.jpg</td>\n",
       "      <td>Pikachu</td>\n",
       "    </tr>\n",
       "    <tr>\n",
       "      <th>1</th>\n",
       "      <td>297.jpg</td>\n",
       "      <td>Pikachu</td>\n",
       "    </tr>\n",
       "    <tr>\n",
       "      <th>2</th>\n",
       "      <td>298.jpg</td>\n",
       "      <td>Pikachu</td>\n",
       "    </tr>\n",
       "    <tr>\n",
       "      <th>3</th>\n",
       "      <td>299.jpg</td>\n",
       "      <td>Pikachu</td>\n",
       "    </tr>\n",
       "    <tr>\n",
       "      <th>4</th>\n",
       "      <td>300.jpg</td>\n",
       "      <td>Pikachu</td>\n",
       "    </tr>\n",
       "  </tbody>\n",
       "</table>\n",
       "</div>"
      ],
      "text/plain": [
       "   ImageId NameOfPokemon\n",
       "0  296.jpg       Pikachu\n",
       "1  297.jpg       Pikachu\n",
       "2  298.jpg       Pikachu\n",
       "3  299.jpg       Pikachu\n",
       "4  300.jpg       Pikachu"
      ]
     },
     "execution_count": 276,
     "metadata": {},
     "output_type": "execute_result"
    }
   ],
   "source": [
    "df.head()"
   ]
  },
  {
   "cell_type": "code",
   "execution_count": 277,
   "metadata": {},
   "outputs": [],
   "source": [
    "data = df.values"
   ]
  },
  {
   "cell_type": "code",
   "execution_count": 278,
   "metadata": {},
   "outputs": [],
   "source": [
    "image_data, labels = [], []"
   ]
  },
  {
   "cell_type": "code",
   "execution_count": 279,
   "metadata": {},
   "outputs": [],
   "source": [
    "m = data.shape[0]"
   ]
  },
  {
   "cell_type": "code",
   "execution_count": 280,
   "metadata": {},
   "outputs": [
    {
     "name": "stderr",
     "output_type": "stream",
     "text": [
      "/usr/lib/python3/dist-packages/PIL/Image.py:931: UserWarning: Palette images with Transparency expressed in bytes should be converted to RGBA images\n",
      "  warnings.warn(\n"
     ]
    }
   ],
   "source": [
    "for i in range(m) :\n",
    "    img_path = './train/Images/' + data[i][0]\n",
    "    img = image.load_img(img_path, target_size=(30,30))\n",
    "    img_array = image.img_to_array(img)\n",
    "    image_data.append(img_array)\n",
    "    labels.append(labels_dict[data[i][1]])"
   ]
  },
  {
   "cell_type": "code",
   "execution_count": 281,
   "metadata": {},
   "outputs": [],
   "source": [
    "image_data = np.array(image_data, dtype='float32')/255.0\n",
    "labels = np.array(labels)"
   ]
  },
  {
   "cell_type": "code",
   "execution_count": 282,
   "metadata": {},
   "outputs": [],
   "source": [
    "# image_data[:3]"
   ]
  },
  {
   "cell_type": "code",
   "execution_count": 283,
   "metadata": {},
   "outputs": [],
   "source": [
    "# labels[:10]"
   ]
  },
  {
   "cell_type": "code",
   "execution_count": 284,
   "metadata": {},
   "outputs": [
    {
     "name": "stdout",
     "output_type": "stream",
     "text": [
      "304 304\n",
      "(304, 30, 30, 3)\n"
     ]
    }
   ],
   "source": [
    "print(len(image_data), len(labels))\n",
    "print(image_data.shape)"
   ]
  },
  {
   "cell_type": "markdown",
   "metadata": {},
   "source": [
    "### Shuffle data"
   ]
  },
  {
   "cell_type": "code",
   "execution_count": 285,
   "metadata": {},
   "outputs": [],
   "source": [
    "import random\n",
    "\n",
    "combined = list(zip(image_data, labels))\n",
    "random.shuffle(combined)\n",
    "\n",
    "image_data[:], labels[:] = zip(*combined)"
   ]
  },
  {
   "cell_type": "code",
   "execution_count": 286,
   "metadata": {},
   "outputs": [
    {
     "name": "stdout",
     "output_type": "stream",
     "text": [
      "(304, 2700) (304,)\n"
     ]
    }
   ],
   "source": [
    "image_data = image_data.reshape(m, -1)\n",
    "print(image_data.shape, labels.shape)"
   ]
  },
  {
   "cell_type": "markdown",
   "metadata": {},
   "source": [
    "### Feature Selection"
   ]
  },
  {
   "cell_type": "code",
   "execution_count": 287,
   "metadata": {},
   "outputs": [],
   "source": [
    "from sklearn.feature_selection import SelectKBest, chi2"
   ]
  },
  {
   "cell_type": "code",
   "execution_count": 288,
   "metadata": {},
   "outputs": [],
   "source": [
    "best_features = SelectKBest(score_func=chi2, k = 1000)"
   ]
  },
  {
   "cell_type": "code",
   "execution_count": 289,
   "metadata": {},
   "outputs": [],
   "source": [
    "fit = best_features.fit(image_data, labels)"
   ]
  },
  {
   "cell_type": "code",
   "execution_count": 290,
   "metadata": {},
   "outputs": [
    {
     "data": {
      "text/plain": [
       "array([0.88548316, 0.396627  , 0.59394984, ..., 0.45871205, 0.07246403,\n",
       "       0.47191924])"
      ]
     },
     "execution_count": 290,
     "metadata": {},
     "output_type": "execute_result"
    }
   ],
   "source": [
    "fit.scores_"
   ]
  },
  {
   "cell_type": "code",
   "execution_count": 291,
   "metadata": {},
   "outputs": [],
   "source": [
    "dfscores = pd.DataFrame(fit.scores_)"
   ]
  },
  {
   "cell_type": "code",
   "execution_count": 292,
   "metadata": {},
   "outputs": [
    {
     "data": {
      "text/html": [
       "<div>\n",
       "<style scoped>\n",
       "    .dataframe tbody tr th:only-of-type {\n",
       "        vertical-align: middle;\n",
       "    }\n",
       "\n",
       "    .dataframe tbody tr th {\n",
       "        vertical-align: top;\n",
       "    }\n",
       "\n",
       "    .dataframe thead th {\n",
       "        text-align: right;\n",
       "    }\n",
       "</style>\n",
       "<table border=\"1\" class=\"dataframe\">\n",
       "  <thead>\n",
       "    <tr style=\"text-align: right;\">\n",
       "      <th></th>\n",
       "      <th>0</th>\n",
       "    </tr>\n",
       "  </thead>\n",
       "  <tbody>\n",
       "    <tr>\n",
       "      <th>0</th>\n",
       "      <td>0.885483</td>\n",
       "    </tr>\n",
       "    <tr>\n",
       "      <th>1</th>\n",
       "      <td>0.396627</td>\n",
       "    </tr>\n",
       "    <tr>\n",
       "      <th>2</th>\n",
       "      <td>0.593950</td>\n",
       "    </tr>\n",
       "    <tr>\n",
       "      <th>3</th>\n",
       "      <td>0.927044</td>\n",
       "    </tr>\n",
       "    <tr>\n",
       "      <th>4</th>\n",
       "      <td>0.490995</td>\n",
       "    </tr>\n",
       "  </tbody>\n",
       "</table>\n",
       "</div>"
      ],
      "text/plain": [
       "          0\n",
       "0  0.885483\n",
       "1  0.396627\n",
       "2  0.593950\n",
       "3  0.927044\n",
       "4  0.490995"
      ]
     },
     "execution_count": 292,
     "metadata": {},
     "output_type": "execute_result"
    }
   ],
   "source": [
    "dfscores.head()"
   ]
  },
  {
   "cell_type": "code",
   "execution_count": 293,
   "metadata": {},
   "outputs": [],
   "source": [
    "# pd.DataFrame?"
   ]
  },
  {
   "cell_type": "code",
   "execution_count": 294,
   "metadata": {},
   "outputs": [],
   "source": [
    "scores = fit.scores_"
   ]
  },
  {
   "cell_type": "code",
   "execution_count": 295,
   "metadata": {},
   "outputs": [
    {
     "data": {
      "text/plain": [
       "(2700,)"
      ]
     },
     "execution_count": 295,
     "metadata": {},
     "output_type": "execute_result"
    }
   ],
   "source": [
    "scores.shape"
   ]
  },
  {
   "cell_type": "code",
   "execution_count": 296,
   "metadata": {},
   "outputs": [
    {
     "data": {
      "text/plain": [
       "2121"
      ]
     },
     "execution_count": 296,
     "metadata": {},
     "output_type": "execute_result"
    }
   ],
   "source": [
    "np.argmax(scores)"
   ]
  },
  {
   "cell_type": "code",
   "execution_count": 297,
   "metadata": {},
   "outputs": [
    {
     "data": {
      "text/plain": [
       "8.76608348246863"
      ]
     },
     "execution_count": 297,
     "metadata": {},
     "output_type": "execute_result"
    }
   ],
   "source": [
    "scores[941]"
   ]
  },
  {
   "cell_type": "code",
   "execution_count": 298,
   "metadata": {},
   "outputs": [
    {
     "data": {
      "text/plain": [
       "array([   0,    1,    2, ..., 2697, 2698, 2699])"
      ]
     },
     "execution_count": 298,
     "metadata": {},
     "output_type": "execute_result"
    }
   ],
   "source": [
    "np.arange(0, 2700)"
   ]
  },
  {
   "cell_type": "code",
   "execution_count": 299,
   "metadata": {},
   "outputs": [],
   "source": [
    "scores_idx = np.hstack((np.arange(0, 2700), scores))"
   ]
  },
  {
   "cell_type": "code",
   "execution_count": 300,
   "metadata": {},
   "outputs": [],
   "source": [
    "dfscores = pd.DataFrame(scores_idx)"
   ]
  },
  {
   "cell_type": "code",
   "execution_count": 301,
   "metadata": {},
   "outputs": [
    {
     "data": {
      "text/html": [
       "<div>\n",
       "<style scoped>\n",
       "    .dataframe tbody tr th:only-of-type {\n",
       "        vertical-align: middle;\n",
       "    }\n",
       "\n",
       "    .dataframe tbody tr th {\n",
       "        vertical-align: top;\n",
       "    }\n",
       "\n",
       "    .dataframe thead th {\n",
       "        text-align: right;\n",
       "    }\n",
       "</style>\n",
       "<table border=\"1\" class=\"dataframe\">\n",
       "  <thead>\n",
       "    <tr style=\"text-align: right;\">\n",
       "      <th></th>\n",
       "      <th>0</th>\n",
       "    </tr>\n",
       "  </thead>\n",
       "  <tbody>\n",
       "    <tr>\n",
       "      <th>5395</th>\n",
       "      <td>0.100396</td>\n",
       "    </tr>\n",
       "    <tr>\n",
       "      <th>5396</th>\n",
       "      <td>0.514377</td>\n",
       "    </tr>\n",
       "    <tr>\n",
       "      <th>5397</th>\n",
       "      <td>0.458712</td>\n",
       "    </tr>\n",
       "    <tr>\n",
       "      <th>5398</th>\n",
       "      <td>0.072464</td>\n",
       "    </tr>\n",
       "    <tr>\n",
       "      <th>5399</th>\n",
       "      <td>0.471919</td>\n",
       "    </tr>\n",
       "  </tbody>\n",
       "</table>\n",
       "</div>"
      ],
      "text/plain": [
       "             0\n",
       "5395  0.100396\n",
       "5396  0.514377\n",
       "5397  0.458712\n",
       "5398  0.072464\n",
       "5399  0.471919"
      ]
     },
     "execution_count": 301,
     "metadata": {},
     "output_type": "execute_result"
    }
   ],
   "source": [
    "dfscores.tail()"
   ]
  },
  {
   "cell_type": "code",
   "execution_count": 302,
   "metadata": {},
   "outputs": [],
   "source": [
    "indices = np.argpartition(scores, -2700)[-500:]"
   ]
  },
  {
   "cell_type": "code",
   "execution_count": 303,
   "metadata": {},
   "outputs": [],
   "source": [
    "indices.sort()"
   ]
  },
  {
   "cell_type": "code",
   "execution_count": 304,
   "metadata": {},
   "outputs": [
    {
     "data": {
      "text/plain": [
       "array([ 111,  114,  117,  204,  213,  291,  294,  297,  300,  303,  306,\n",
       "        309,  313,  381,  384,  387,  390,  393,  398,  401,  403,  404,\n",
       "        406,  468,  471,  474,  477,  480,  483,  561,  564,  567,  570,\n",
       "        573,  579,  609,  650,  651,  653,  654,  656,  657,  659,  660,\n",
       "        663,  665,  666,  668,  671,  674,  729,  732,  738,  741,  743,\n",
       "        744,  746,  747,  749,  750,  752,  753,  756,  758,  759,  761,\n",
       "        764,  766,  767,  771,  822,  828,  831,  833,  834,  836,  837,\n",
       "        839,  840,  842,  843,  845,  846,  848,  849,  851,  852,  854,\n",
       "        855,  857,  858,  860,  891,  921,  923,  924,  927,  930,  932,\n",
       "        933,  935,  936,  938,  939,  940,  941,  942,  944,  945,  947,\n",
       "        948,  951,  953,  954,  957,  960,  981,  996, 1011, 1014, 1017,\n",
       "       1020, 1022, 1023, 1025, 1026, 1027, 1028, 1029, 1030, 1031, 1032,\n",
       "       1034, 1035, 1037, 1043, 1044, 1048, 1050, 1065, 1068, 1071, 1074,\n",
       "       1094, 1104, 1107, 1110, 1112, 1113, 1115, 1116, 1117, 1118, 1119,\n",
       "       1121, 1122, 1124, 1127, 1130, 1135, 1136, 1138, 1140, 1143, 1152,\n",
       "       1155, 1158, 1161, 1184, 1188, 1194, 1197, 1199, 1200, 1202, 1203,\n",
       "       1205, 1206, 1208, 1211, 1212, 1214, 1217, 1220, 1223, 1226, 1227,\n",
       "       1228, 1229, 1230, 1233, 1236, 1239, 1242, 1245, 1248, 1278, 1281,\n",
       "       1284, 1286, 1287, 1289, 1290, 1292, 1293, 1295, 1296, 1298, 1299,\n",
       "       1301, 1302, 1304, 1307, 1310, 1311, 1313, 1314, 1317, 1319, 1320,\n",
       "       1322, 1323, 1326, 1329, 1332, 1335, 1338, 1341, 1368, 1371, 1373,\n",
       "       1374, 1376, 1377, 1380, 1382, 1383, 1385, 1386, 1388, 1389, 1391,\n",
       "       1392, 1394, 1397, 1400, 1401, 1404, 1407, 1410, 1413, 1416, 1419,\n",
       "       1422, 1425, 1428, 1461, 1463, 1464, 1467, 1470, 1473, 1476, 1478,\n",
       "       1479, 1481, 1482, 1484, 1487, 1488, 1493, 1494, 1500, 1503, 1509,\n",
       "       1512, 1515, 1518, 1551, 1554, 1557, 1560, 1563, 1566, 1569, 1572,\n",
       "       1574, 1575, 1577, 1580, 1581, 1583, 1584, 1586, 1599, 1602, 1605,\n",
       "       1608, 1634, 1637, 1640, 1641, 1644, 1647, 1650, 1653, 1656, 1659,\n",
       "       1662, 1664, 1667, 1668, 1670, 1671, 1676, 1731, 1734, 1737, 1740,\n",
       "       1743, 1746, 1749, 1752, 1755, 1757, 1758, 1760, 1763, 1764, 1770,\n",
       "       1818, 1824, 1827, 1830, 1833, 1836, 1839, 1842, 1845, 1847, 1848,\n",
       "       1850, 1851, 1853, 1857, 1860, 1863, 1866, 1869, 1878, 1908, 1911,\n",
       "       1914, 1917, 1920, 1923, 1926, 1929, 1932, 1935, 1937, 1938, 1940,\n",
       "       1941, 1943, 1944, 1946, 1947, 1950, 1955, 1956, 1959, 1962, 1965,\n",
       "       1995, 1998, 2001, 2004, 2007, 2010, 2013, 2016, 2019, 2021, 2022,\n",
       "       2025, 2027, 2028, 2030, 2031, 2033, 2034, 2036, 2037, 2039, 2040,\n",
       "       2042, 2043, 2046, 2048, 2049, 2052, 2070, 2082, 2085, 2088, 2091,\n",
       "       2094, 2097, 2100, 2103, 2106, 2109, 2112, 2114, 2115, 2117, 2118,\n",
       "       2120, 2121, 2123, 2124, 2127, 2130, 2133, 2136, 2139, 2142, 2163,\n",
       "       2169, 2172, 2175, 2178, 2181, 2184, 2186, 2187, 2189, 2190, 2192,\n",
       "       2193, 2195, 2196, 2199, 2202, 2205, 2207, 2208, 2210, 2211, 2213,\n",
       "       2214, 2217, 2220, 2223, 2226, 2229, 2259, 2265, 2268, 2273, 2274,\n",
       "       2277, 2279, 2280, 2283, 2286, 2289, 2292, 2295, 2297, 2298, 2300,\n",
       "       2301, 2303, 2304, 2306, 2307, 2310, 2313, 2316, 2358, 2366, 2367,\n",
       "       2370, 2373, 2376, 2379, 2387, 2389, 2390, 2393, 2396, 2448, 2451,\n",
       "       2454, 2481, 2487, 2490, 2559])"
      ]
     },
     "execution_count": 304,
     "metadata": {},
     "output_type": "execute_result"
    }
   ],
   "source": [
    "indices"
   ]
  },
  {
   "cell_type": "code",
   "execution_count": 305,
   "metadata": {},
   "outputs": [],
   "source": [
    "imagedatanew = []"
   ]
  },
  {
   "cell_type": "code",
   "execution_count": 306,
   "metadata": {},
   "outputs": [],
   "source": [
    "for x in image_data :\n",
    "    sth = [x[_] for _ in list(indices)]\n",
    "    imagedatanew.append(np.array(sth))"
   ]
  },
  {
   "cell_type": "code",
   "execution_count": 307,
   "metadata": {},
   "outputs": [
    {
     "data": {
      "text/plain": [
       "(500,)"
      ]
     },
     "execution_count": 307,
     "metadata": {},
     "output_type": "execute_result"
    }
   ],
   "source": [
    "imagedatanew[0].shape"
   ]
  },
  {
   "cell_type": "code",
   "execution_count": 318,
   "metadata": {},
   "outputs": [],
   "source": [
    "lst = np.array(sorted([scores[i] for i in list(indices)], reverse = True))"
   ]
  },
  {
   "cell_type": "code",
   "execution_count": 319,
   "metadata": {},
   "outputs": [
    {
     "data": {
      "text/plain": [
       "(500,)"
      ]
     },
     "execution_count": 319,
     "metadata": {},
     "output_type": "execute_result"
    }
   ],
   "source": [
    "lst.shape"
   ]
  },
  {
   "cell_type": "code",
   "execution_count": 320,
   "metadata": {},
   "outputs": [
    {
     "data": {
      "text/plain": [
       "[<matplotlib.lines.Line2D at 0x7fd4a68c1bb0>]"
      ]
     },
     "execution_count": 320,
     "metadata": {},
     "output_type": "execute_result"
    },
    {
     "data": {
      "image/png": "[encoded data removed]",
      "text/plain": [
       "<Figure size 432x288 with 1 Axes>"
      ]
     },
     "metadata": {
      "needs_background": "light"
     },
     "output_type": "display_data"
    }
   ],
   "source": [
    "plt.plot(lst)"
   ]
  },
  {
   "cell_type": "code",
   "execution_count": null,
   "metadata": {},
   "outputs": [],
   "source": []
  },
  {
   "cell_type": "code",
   "execution_count": null,
   "metadata": {},
   "outputs": [],
   "source": []
  },
  {
   "cell_type": "code",
   "execution_count": null,
   "metadata": {},
   "outputs": [],
   "source": []
  },
  {
   "cell_type": "code",
   "execution_count": 308,
   "metadata": {},
   "outputs": [],
   "source": [
    "imagenewdata = np.array(imagedatanew)"
   ]
  },
  {
   "cell_type": "code",
   "execution_count": 309,
   "metadata": {},
   "outputs": [
    {
     "data": {
      "text/plain": [
       "((304, 500), (304,))"
      ]
     },
     "execution_count": 309,
     "metadata": {},
     "output_type": "execute_result"
    }
   ],
   "source": [
    "imagenewdata.shape, labels.shape"
   ]
  },
  {
   "cell_type": "markdown",
   "metadata": {},
   "source": [
    "### Sklearn SVM"
   ]
  },
  {
   "cell_type": "code",
   "execution_count": 310,
   "metadata": {},
   "outputs": [
    {
     "name": "stdout",
     "output_type": "stream",
     "text": [
      "0.6710526315789473\n"
     ]
    }
   ],
   "source": [
    "from sklearn import svm\n",
    "svm_classifier = svm.SVC(kernel='linear', C=1.0)\n",
    "svm_classifier.fit(imagenewdata, labels)\n",
    "print(svm_classifier.score(imagenewdata, labels))"
   ]
  },
  {
   "cell_type": "markdown",
   "metadata": {},
   "source": [
    "### Sklearn Logistic Regression"
   ]
  },
  {
   "cell_type": "code",
   "execution_count": 243,
   "metadata": {},
   "outputs": [
    {
     "name": "stdout",
     "output_type": "stream",
     "text": [
      "0.6875\n"
     ]
    }
   ],
   "source": [
    "from sklearn.linear_model import LogisticRegression\n",
    "model = LogisticRegression(max_iter=1500)\n",
    "model.fit(image_data, labels)\n",
    "print(model.score(image_data, labels))"
   ]
  },
  {
   "cell_type": "markdown",
   "metadata": {},
   "source": [
    "### Sklearn KNN"
   ]
  },
  {
   "cell_type": "code",
   "execution_count": 73,
   "metadata": {},
   "outputs": [
    {
     "data": {
      "text/plain": [
       "0.6348684210526315"
      ]
     },
     "execution_count": 73,
     "metadata": {},
     "output_type": "execute_result"
    }
   ],
   "source": [
    "from sklearn.neighbors import KNeighborsClassifier\n",
    "knn = KNeighborsClassifier(n_neighbors=17)\n",
    "knn.fit(image_data, labels)\n",
    "knn.score(image_data, labels)"
   ]
  },
  {
   "cell_type": "code",
   "execution_count": null,
   "metadata": {},
   "outputs": [],
   "source": []
  },
  {
   "cell_type": "markdown",
   "metadata": {},
   "source": [
    "### Visualise data"
   ]
  },
  {
   "cell_type": "code",
   "execution_count": 27,
   "metadata": {},
   "outputs": [],
   "source": [
    "def drawImg(img) :\n",
    "    plt.imshow(img)\n",
    "    plt.axis('off')\n",
    "    plt.show()\n",
    "    return"
   ]
  },
  {
   "cell_type": "code",
   "execution_count": 28,
   "metadata": {},
   "outputs": [
    {
     "ename": "ValueError",
     "evalue": "cannot reshape array of size 2700 into shape (32,32,3)",
     "output_type": "error",
     "traceback": [
      "\u001b[0;31m---------------------------------------------------------------------------\u001b[0m",
      "\u001b[0;31mValueError\u001b[0m                                Traceback (most recent call last)",
      "\u001b[0;32m<ipython-input-28-132c4c7bbdf8>\u001b[0m in \u001b[0;36m<module>\u001b[0;34m\u001b[0m\n\u001b[1;32m      1\u001b[0m \u001b[0;32mfor\u001b[0m \u001b[0mi\u001b[0m \u001b[0;32min\u001b[0m \u001b[0mrange\u001b[0m \u001b[0;34m(\u001b[0m\u001b[0;36m10\u001b[0m\u001b[0;34m)\u001b[0m \u001b[0;34m:\u001b[0m\u001b[0;34m\u001b[0m\u001b[0;34m\u001b[0m\u001b[0m\n\u001b[0;32m----> 2\u001b[0;31m     \u001b[0mdrawImg\u001b[0m\u001b[0;34m(\u001b[0m\u001b[0mimage_data\u001b[0m\u001b[0;34m[\u001b[0m\u001b[0mi\u001b[0m\u001b[0;34m]\u001b[0m\u001b[0;34m.\u001b[0m\u001b[0mreshape\u001b[0m\u001b[0;34m(\u001b[0m\u001b[0;34m(\u001b[0m\u001b[0;36m32\u001b[0m\u001b[0;34m,\u001b[0m \u001b[0;36m32\u001b[0m\u001b[0;34m,\u001b[0m \u001b[0;36m3\u001b[0m\u001b[0;34m)\u001b[0m\u001b[0;34m)\u001b[0m\u001b[0;34m)\u001b[0m\u001b[0;34m\u001b[0m\u001b[0;34m\u001b[0m\u001b[0m\n\u001b[0m",
      "\u001b[0;31mValueError\u001b[0m: cannot reshape array of size 2700 into shape (32,32,3)"
     ]
    }
   ],
   "source": [
    "for i in range (10) :\n",
    "    drawImg(image_data[i].reshape((32, 32, 3)))"
   ]
  },
  {
   "cell_type": "markdown",
   "metadata": {},
   "source": [
    "### SVM Classifier"
   ]
  },
  {
   "cell_type": "code",
   "execution_count": null,
   "metadata": {},
   "outputs": [],
   "source": [
    "class SVM :\n",
    "    \n",
    "    def __init__(self, C=1) : # C is penalty for outliers\n",
    "        self.C = C\n",
    "        self.W = 0\n",
    "        self.b = 0\n",
    "        \n",
    "    def hingeLoss(self, W, b, X, Y) :\n",
    "        loss = 0.0\n",
    "        \n",
    "        loss += .5 * np.dot(W, W.T)\n",
    "        \n",
    "        m = X.shape[0]\n",
    "        \n",
    "        for i in range(m) :\n",
    "            ti = Y[i] * (np.dot(W, X[i].T) + b) # W->1 x n, X[i]->1 x n\n",
    "            loss += self.C * max(0, (1 - ti))\n",
    "            \n",
    "        return loss[0][0]\n",
    "    \n",
    "    def fit(self, X, Y, batch_size=100, learning_rate=0.001, maxItr=500) :\n",
    "        \n",
    "        no_of_features = X.shape[1]\n",
    "        no_of_samples = X.shape[0]\n",
    "        \n",
    "        n = learning_rate\n",
    "        c = self.C\n",
    "        \n",
    "        # Initialise model parameters\n",
    "        W = np.zeros((1, no_of_features))\n",
    "        bias = 0\n",
    "        \n",
    "        # Initial loss\n",
    "        # print(self.hingeLoss(W, bias, X, Y))\n",
    "        \n",
    "        # Training starts from here, update weight and bias\n",
    "        losses = []\n",
    "        \n",
    "        for i in range(maxItr) :\n",
    "            \n",
    "            l = self.hingeLoss(W, bias, X, Y)\n",
    "            losses.append(l)\n",
    "            \n",
    "            ids = np.arange(no_of_samples)\n",
    "            np.random.shuffle(ids)\n",
    "            \n",
    "            # Batch Gradient Descent with random shuffling\n",
    "            for batch_start in range(0, no_of_samples, batch_size) :\n",
    "                # Assume 0 gradient for the batch\n",
    "                gradw = 0\n",
    "                gradb = 0\n",
    "                \n",
    "                # Iterate over all examples in mini batch\n",
    "                for j in range(batch_start, batch_start + batch_size) :\n",
    "                    if j < no_of_samples :\n",
    "                        i = ids[j]\n",
    "                        ti = Y[i] * (np.dot(W, X[i].T) + bias)\n",
    "                        \n",
    "                        if ti > 1 :\n",
    "                            gradw += 0\n",
    "                            gradb += 0\n",
    "                        else :\n",
    "                            gradw += c * Y[i] * X[i]\n",
    "                            gradb += c * Y[i]\n",
    "                    \n",
    "                W = W - n * W + n * gradw\n",
    "                bias = bias + n * gradb\n",
    "                \n",
    "        self.W = W\n",
    "        self.b = bias\n",
    "        return W, bias, losses"
   ]
  },
  {
   "cell_type": "code",
   "execution_count": null,
   "metadata": {},
   "outputs": [],
   "source": [
    "image_data = image_data.reshape(m, -1)\n",
    "print(image_data.shape, labels.shape)"
   ]
  },
  {
   "cell_type": "code",
   "execution_count": null,
   "metadata": {},
   "outputs": [],
   "source": [
    "CLASSES = len(np.unique(labels))\n",
    "print(CLASSES)"
   ]
  },
  {
   "cell_type": "code",
   "execution_count": null,
   "metadata": {},
   "outputs": [],
   "source": [
    "def classWiseData(x, y) :\n",
    "    data = {}\n",
    "    for i in range(CLASSES) :\n",
    "        data[i] = []\n",
    "    \n",
    "    for i in range(x.shape[0]) :\n",
    "        data[y[i]].append(x[i])\n",
    "        \n",
    "    for k in data.keys() :\n",
    "        data[k] = np.array(data[k])\n",
    "    \n",
    "    return data"
   ]
  },
  {
   "cell_type": "code",
   "execution_count": null,
   "metadata": {},
   "outputs": [],
   "source": [
    "data = classWiseData(image_data, labels)"
   ]
  },
  {
   "cell_type": "code",
   "execution_count": null,
   "metadata": {},
   "outputs": [],
   "source": [
    "print(data[0].shape[0])\n",
    "print(data[1].shape[0])\n",
    "print(data[2].shape[0])\n",
    "print(data[0].shape)"
   ]
  },
  {
   "cell_type": "code",
   "execution_count": null,
   "metadata": {},
   "outputs": [],
   "source": [
    "def getDataPairForSVM(d1, d2) :\n",
    "    \n",
    "    l1, l2 = d1.shape[0], d2.shape[0]\n",
    "    \n",
    "    samples = l1 + l2\n",
    "    features = d1.shape[1]\n",
    "    \n",
    "    data_pair = np.zeros((samples, features))\n",
    "    data_labels = np.zeros((samples, ))\n",
    "    \n",
    "    data_pair[:l1, :] = d1\n",
    "    data_pair[l1:, :] = d2\n",
    "    data_labels[:l1] = -1 # 0 for logistic regression\n",
    "    data_labels[l1:] = +1\n",
    "    \n",
    "    return data_pair, data_labels"
   ]
  },
  {
   "cell_type": "code",
   "execution_count": null,
   "metadata": {},
   "outputs": [],
   "source": [
    "mySVM = SVM()"
   ]
  },
  {
   "cell_type": "code",
   "execution_count": null,
   "metadata": {},
   "outputs": [],
   "source": [
    "def trainSVMs(x, y) :\n",
    "    svm_classifiers = {}\n",
    "    \n",
    "    for i in range(CLASSES) :\n",
    "        svm_classifiers[i] = {}\n",
    "        for j in range(i + 1, CLASSES) :\n",
    "            xpair, ypair = getDataPairForSVM(data[i], data[j])\n",
    "            wts, b, loss = mySVM.fit(xpair, ypair, learning_rate = 0.00001, maxItr=1500)\n",
    "            svm_classifiers[i][j] = (wts, b)\n",
    "            \n",
    "    return svm_classifiers"
   ]
  },
  {
   "cell_type": "code",
   "execution_count": null,
   "metadata": {},
   "outputs": [],
   "source": [
    "svm_classifiers = trainSVMs(image_data, labels)"
   ]
  },
  {
   "cell_type": "code",
   "execution_count": null,
   "metadata": {},
   "outputs": [],
   "source": [
    "pika_bulba = svm_classifiers[0][1]\n",
    "print(pika_bulba[0], pika_bulba[1])"
   ]
  },
  {
   "cell_type": "code",
   "execution_count": null,
   "metadata": {},
   "outputs": [],
   "source": [
    "def binaryPredict(x, w, b) :\n",
    "    z = np.dot(x, w.T) + b\n",
    "    if z >= 0 :\n",
    "        return 1\n",
    "    else :\n",
    "        return -1"
   ]
  },
  {
   "cell_type": "code",
   "execution_count": null,
   "metadata": {},
   "outputs": [],
   "source": [
    "def predict(x) :\n",
    "    count = np.zeros((CLASSES, ))\n",
    "    \n",
    "    for i in range(CLASSES) :\n",
    "        for j in range(i + 1, CLASSES) :\n",
    "            w, b = svm_classifiers[i][j]\n",
    "            \n",
    "            # Take majority prediction for each classifier\n",
    "            z = binaryPredict(x, w, b)\n",
    "            \n",
    "            if z == 1 :\n",
    "                count[j] += 1\n",
    "            else :\n",
    "                count[i] += 1\n",
    "                \n",
    "    final_prediction = np.argmax(count)\n",
    "    return final_prediction"
   ]
  },
  {
   "cell_type": "code",
   "execution_count": null,
   "metadata": {},
   "outputs": [],
   "source": [
    "print(predict(image_data[1]), labels[1])"
   ]
  },
  {
   "cell_type": "code",
   "execution_count": null,
   "metadata": {},
   "outputs": [],
   "source": [
    "drawImg(image_data[1].reshape(32, 32, 3))"
   ]
  },
  {
   "cell_type": "code",
   "execution_count": null,
   "metadata": {},
   "outputs": [],
   "source": [
    "def accuracy(x, y) :\n",
    "    count = 0\n",
    "    m = x.shape[0]\n",
    "    \n",
    "    for i in range(m) :\n",
    "        prediction = predict(x[i])\n",
    "        if prediction == y[i] :\n",
    "            count += 1\n",
    "    \n",
    "    return count / m * 100"
   ]
  },
  {
   "cell_type": "code",
   "execution_count": null,
   "metadata": {},
   "outputs": [],
   "source": [
    "print(accuracy(image_data, labels))"
   ]
  },
  {
   "cell_type": "code",
   "execution_count": null,
   "metadata": {},
   "outputs": [],
   "source": []
  },
  {
   "cell_type": "markdown",
   "metadata": {},
   "source": [
    "## Making predictions on test data"
   ]
  },
  {
   "cell_type": "code",
   "execution_count": null,
   "metadata": {},
   "outputs": [],
   "source": [
    "testdata = pd.read_csv('./test/test.csv').values"
   ]
  },
  {
   "cell_type": "code",
   "execution_count": null,
   "metadata": {},
   "outputs": [],
   "source": [
    "samples = testdata.shape[0]\n",
    "print(samples)"
   ]
  },
  {
   "cell_type": "code",
   "execution_count": null,
   "metadata": {},
   "outputs": [],
   "source": [
    "test_img = []\n",
    "\n",
    "for i in range(samples) :\n",
    "    img_path = './test/Images/' + testdata[i][0]\n",
    "    img = image.load_img(img_path, target_size=(32,32))\n",
    "    img_array = image.img_to_array(img)\n",
    "    test_img.append(img_array)"
   ]
  },
  {
   "cell_type": "code",
   "execution_count": null,
   "metadata": {},
   "outputs": [],
   "source": [
    "test_img[:3]"
   ]
  },
  {
   "cell_type": "code",
   "execution_count": null,
   "metadata": {},
   "outputs": [],
   "source": [
    "test_img = np.array(test_img, dtype='float32')/255.0\n",
    "test_img = test_img.reshape(samples, -1)\n",
    "print(test_img.shape)"
   ]
  },
  {
   "cell_type": "code",
   "execution_count": null,
   "metadata": {},
   "outputs": [],
   "source": [
    "reverse_dict = {\n",
    "    0: 'Pikachu',\n",
    "    1: 'Bulbasaur',\n",
    "    2: 'Charmander'\n",
    "}"
   ]
  },
  {
   "cell_type": "code",
   "execution_count": null,
   "metadata": {},
   "outputs": [],
   "source": [
    "predictions = []\n",
    "\n",
    "for i in range(samples) :\n",
    "    pred = predict(test_img[i])\n",
    "    predictions.append(reverse_dict[pred])"
   ]
  },
  {
   "cell_type": "code",
   "execution_count": null,
   "metadata": {},
   "outputs": [],
   "source": [
    "len(predictions)"
   ]
  },
  {
   "cell_type": "code",
   "execution_count": null,
   "metadata": {},
   "outputs": [],
   "source": [
    "for i in range(samples) :\n",
    "    print(predictions[i])\n",
    "    drawImg(test_img[i].reshape(32, 32, 3))"
   ]
  },
  {
   "cell_type": "code",
   "execution_count": null,
   "metadata": {},
   "outputs": [],
   "source": [
    "predictions = np.array(predictions).reshape((-1, 1))\n",
    "print(testdata.shape, predictions.shape)"
   ]
  },
  {
   "cell_type": "code",
   "execution_count": null,
   "metadata": {},
   "outputs": [],
   "source": [
    "ans = np.hstack((testdata, predictions))"
   ]
  },
  {
   "cell_type": "code",
   "execution_count": null,
   "metadata": {},
   "outputs": [],
   "source": [
    "ans"
   ]
  },
  {
   "cell_type": "code",
   "execution_count": null,
   "metadata": {},
   "outputs": [],
   "source": [
    "ansdf = pd.DataFrame(ans, columns=['ImageId', 'NameOfPokemon'])"
   ]
  },
  {
   "cell_type": "code",
   "execution_count": null,
   "metadata": {},
   "outputs": [],
   "source": [
    "ansdf.head()"
   ]
  },
  {
   "cell_type": "code",
   "execution_count": null,
   "metadata": {},
   "outputs": [],
   "source": [
    "ansdf.to_csv('answerfeatsel.csv', index=False)"
   ]
  },
  {
   "cell_type": "code",
   "execution_count": null,
   "metadata": {},
   "outputs": [],
   "source": []
  }
 ],
 "metadata": {
  "kernelspec": {
   "display_name": "Python 3",
   "language": "python",
   "name": "python3"
  },
  "language_info": {
   "codemirror_mode": {
    "name": "ipython",
    "version": 3
   },
   "file_extension": ".py",
   "mimetype": "text/x-python",
   "name": "python",
   "nbconvert_exporter": "python",
   "pygments_lexer": "ipython3",
   "version": "3.8.2"
  }
 },
 "nbformat": 4,
 "nbformat_minor": 4
}

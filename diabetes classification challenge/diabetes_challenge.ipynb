{
 "cells": [
  {
   "cell_type": "code",
   "execution_count": 50,
   "metadata": {},
   "outputs": [],
   "source": [
    "import pandas as pd\n",
    "import numpy as np\n",
    "import matplotlib.pyplot as plt"
   ]
  },
  {
   "cell_type": "code",
   "execution_count": 152,
   "metadata": {},
   "outputs": [],
   "source": [
    "from sklearn import preprocessing"
   ]
  },
  {
   "cell_type": "code",
   "execution_count": 156,
   "metadata": {},
   "outputs": [
    {
     "name": "stdout",
     "output_type": "stream",
     "text": [
      "(576, 8)\n",
      "(576, 1)\n"
     ]
    }
   ],
   "source": [
    "dfx = pd.read_csv('Diabetes_XTrain.csv')\n",
    "dfy = pd.read_csv('Diabetes_YTrain.csv')\n",
    "\n",
    "print(dfx.shape)\n",
    "print(dfy.shape)"
   ]
  },
  {
   "cell_type": "code",
   "execution_count": 157,
   "metadata": {},
   "outputs": [],
   "source": [
    "scaler = preprocessing.StandardScaler()\n",
    "scaled_df = scaler.fit_transform(dfx)\n",
    "dfx = pd.DataFrame(scaled_df, columns=['Pregnancies', 'Glucose', 'BloodPressure', 'SkinThickness', 'Insulin', 'BMI', 'DiabetesPedigreeFunction', 'Age'])"
   ]
  },
  {
   "cell_type": "code",
   "execution_count": 158,
   "metadata": {},
   "outputs": [
    {
     "data": {
      "text/html": [
       "<div>\n",
       "<style scoped>\n",
       "    .dataframe tbody tr th:only-of-type {\n",
       "        vertical-align: middle;\n",
       "    }\n",
       "\n",
       "    .dataframe tbody tr th {\n",
       "        vertical-align: top;\n",
       "    }\n",
       "\n",
       "    .dataframe thead th {\n",
       "        text-align: right;\n",
       "    }\n",
       "</style>\n",
       "<table border=\"1\" class=\"dataframe\">\n",
       "  <thead>\n",
       "    <tr style=\"text-align: right;\">\n",
       "      <th></th>\n",
       "      <th>Pregnancies</th>\n",
       "      <th>Glucose</th>\n",
       "      <th>BloodPressure</th>\n",
       "      <th>SkinThickness</th>\n",
       "      <th>Insulin</th>\n",
       "      <th>BMI</th>\n",
       "      <th>DiabetesPedigreeFunction</th>\n",
       "      <th>Age</th>\n",
       "    </tr>\n",
       "  </thead>\n",
       "  <tbody>\n",
       "    <tr>\n",
       "      <th>0</th>\n",
       "      <td>0.974572</td>\n",
       "      <td>1.525281</td>\n",
       "      <td>0.945995</td>\n",
       "      <td>1.362427</td>\n",
       "      <td>2.244145</td>\n",
       "      <td>0.780366</td>\n",
       "      <td>0.907501</td>\n",
       "      <td>0.593634</td>\n",
       "    </tr>\n",
       "    <tr>\n",
       "      <th>1</th>\n",
       "      <td>1.275243</td>\n",
       "      <td>-0.316834</td>\n",
       "      <td>0.353934</td>\n",
       "      <td>-1.282400</td>\n",
       "      <td>-0.698144</td>\n",
       "      <td>-0.499183</td>\n",
       "      <td>-0.726400</td>\n",
       "      <td>2.110340</td>\n",
       "    </tr>\n",
       "    <tr>\n",
       "      <th>2</th>\n",
       "      <td>0.974572</td>\n",
       "      <td>0.858308</td>\n",
       "      <td>0.353934</td>\n",
       "      <td>-1.282400</td>\n",
       "      <td>-0.698144</td>\n",
       "      <td>0.928006</td>\n",
       "      <td>-0.666985</td>\n",
       "      <td>0.846418</td>\n",
       "    </tr>\n",
       "    <tr>\n",
       "      <th>3</th>\n",
       "      <td>-0.528785</td>\n",
       "      <td>-0.634440</td>\n",
       "      <td>-0.139449</td>\n",
       "      <td>-0.022959</td>\n",
       "      <td>0.126796</td>\n",
       "      <td>0.128288</td>\n",
       "      <td>1.145159</td>\n",
       "      <td>-0.417504</td>\n",
       "    </tr>\n",
       "    <tr>\n",
       "      <th>4</th>\n",
       "      <td>0.072558</td>\n",
       "      <td>0.286617</td>\n",
       "      <td>0.847318</td>\n",
       "      <td>-0.022959</td>\n",
       "      <td>1.776678</td>\n",
       "      <td>0.398962</td>\n",
       "      <td>-0.744224</td>\n",
       "      <td>-0.838811</td>\n",
       "    </tr>\n",
       "  </tbody>\n",
       "</table>\n",
       "</div>"
      ],
      "text/plain": [
       "   Pregnancies   Glucose  BloodPressure  SkinThickness   Insulin       BMI  \\\n",
       "0     0.974572  1.525281       0.945995       1.362427  2.244145  0.780366   \n",
       "1     1.275243 -0.316834       0.353934      -1.282400 -0.698144 -0.499183   \n",
       "2     0.974572  0.858308       0.353934      -1.282400 -0.698144  0.928006   \n",
       "3    -0.528785 -0.634440      -0.139449      -0.022959  0.126796  0.128288   \n",
       "4     0.072558  0.286617       0.847318      -0.022959  1.776678  0.398962   \n",
       "\n",
       "   DiabetesPedigreeFunction       Age  \n",
       "0                  0.907501  0.593634  \n",
       "1                 -0.726400  2.110340  \n",
       "2                 -0.666985  0.846418  \n",
       "3                  1.145159 -0.417504  \n",
       "4                 -0.744224 -0.838811  "
      ]
     },
     "execution_count": 158,
     "metadata": {},
     "output_type": "execute_result"
    }
   ],
   "source": [
    "dfx.head()"
   ]
  },
  {
   "cell_type": "code",
   "execution_count": 159,
   "metadata": {},
   "outputs": [
    {
     "data": {
      "text/html": [
       "<div>\n",
       "<style scoped>\n",
       "    .dataframe tbody tr th:only-of-type {\n",
       "        vertical-align: middle;\n",
       "    }\n",
       "\n",
       "    .dataframe tbody tr th {\n",
       "        vertical-align: top;\n",
       "    }\n",
       "\n",
       "    .dataframe thead th {\n",
       "        text-align: right;\n",
       "    }\n",
       "</style>\n",
       "<table border=\"1\" class=\"dataframe\">\n",
       "  <thead>\n",
       "    <tr style=\"text-align: right;\">\n",
       "      <th></th>\n",
       "      <th>Outcome</th>\n",
       "    </tr>\n",
       "  </thead>\n",
       "  <tbody>\n",
       "    <tr>\n",
       "      <th>0</th>\n",
       "      <td>1</td>\n",
       "    </tr>\n",
       "    <tr>\n",
       "      <th>1</th>\n",
       "      <td>0</td>\n",
       "    </tr>\n",
       "    <tr>\n",
       "      <th>2</th>\n",
       "      <td>1</td>\n",
       "    </tr>\n",
       "    <tr>\n",
       "      <th>3</th>\n",
       "      <td>1</td>\n",
       "    </tr>\n",
       "    <tr>\n",
       "      <th>4</th>\n",
       "      <td>0</td>\n",
       "    </tr>\n",
       "  </tbody>\n",
       "</table>\n",
       "</div>"
      ],
      "text/plain": [
       "   Outcome\n",
       "0        1\n",
       "1        0\n",
       "2        1\n",
       "3        1\n",
       "4        0"
      ]
     },
     "execution_count": 159,
     "metadata": {},
     "output_type": "execute_result"
    }
   ],
   "source": [
    "dfy.head()"
   ]
  },
  {
   "cell_type": "code",
   "execution_count": 160,
   "metadata": {},
   "outputs": [],
   "source": [
    "X = dfx.values\n",
    "Y = dfy.values"
   ]
  },
  {
   "cell_type": "code",
   "execution_count": 161,
   "metadata": {},
   "outputs": [
    {
     "name": "stdout",
     "output_type": "stream",
     "text": [
      "(576, 8)\n",
      "(576, 1)\n"
     ]
    }
   ],
   "source": [
    "print(X.shape)\n",
    "print(Y.shape)"
   ]
  },
  {
   "cell_type": "code",
   "execution_count": 162,
   "metadata": {},
   "outputs": [],
   "source": [
    "Y = Y.reshape((-1, ))"
   ]
  },
  {
   "cell_type": "code",
   "execution_count": 163,
   "metadata": {},
   "outputs": [
    {
     "name": "stdout",
     "output_type": "stream",
     "text": [
      "(576,)\n"
     ]
    }
   ],
   "source": [
    "print(Y.shape)"
   ]
  },
  {
   "cell_type": "code",
   "execution_count": 164,
   "metadata": {},
   "outputs": [
    {
     "name": "stdout",
     "output_type": "stream",
     "text": [
      "[[ 0.97457151  1.52528095  0.94599501 ...  0.78036618  0.907501\n",
      "   0.59363371]\n",
      " [ 1.27524274 -0.31683408  0.35393439 ... -0.49918316 -0.72639999\n",
      "   2.11034006]\n",
      " [ 0.97457151  0.85830827  0.35393439 ...  0.92800649 -0.66698541\n",
      "   0.8464181 ]\n",
      " ...\n",
      " [-0.52878465  0.06429317 -0.43547977 ... -0.25311598  0.69954996\n",
      "  -0.92307263]\n",
      " [ 0.07255781  1.0806325   0.15658085 ... -0.06856559 -0.42635635\n",
      "   0.34084932]\n",
      " [-0.82945588 -1.01556737  0.45261116 ...  0.01755792 -0.34614667\n",
      "  -0.33324239]]\n"
     ]
    }
   ],
   "source": [
    "print(X)"
   ]
  },
  {
   "cell_type": "code",
   "execution_count": 165,
   "metadata": {},
   "outputs": [
    {
     "name": "stdout",
     "output_type": "stream",
     "text": [
      "[1 0 1 1 0 1 0 0 1 0 0 1 0 1 1 0 1 0 0 0 0 0 0 0 1 0 0 1 0 1 0 0 0 1 0 0 0\n",
      " 0 0 0 0 0 0 0 0 0 0 1 1 1 0 0 1 0 1 0 0 0 0 1 0 1 1 1 0 1 0 1 0 0 0 1 0 0\n",
      " 1 0 0 0 1 0 0 1 0 0 0 1 0 0 1 0 0 1 0 0 0 0 1 1 0 0 0 0 0 0 0 1 0 0 1 0 1\n",
      " 1 1 0 0 0 1 1 1 0 0 1 0 1 1 1 1 0 0 1 0 1 0 0 0 0 0 0 0 0 0 1 1 0 0 1 0 1\n",
      " 1 0 1 1 0 1 1 1 0 0 0 0 0 0 0 0 0 1 0 0 0 1 1 1 1 0 1 0 1 0 0 0 0 0 1 1 1\n",
      " 0 0 0 0 0 0 0 1 1 0 0 0 1 0 0 0 0 0 0 0 1 1 0 1 1 0 0 0 1 0 0 1 1 0 0 1 0\n",
      " 0 0 1 0 0 1 0 1 1 0 1 0 1 1 0 0 1 0 0 0 0 0 1 0 1 0 0 1 0 1 0 1 1 0 0 0 0\n",
      " 0 1 0 0 0 0 1 0 1 0 1 0 1 0 1 0 0 1 1 0 0 0 0 0 0 1 1 0 0 1 0 0 1 0 1 0 0\n",
      " 0 0 0 0 0 1 0 0 1 1 1 1 0 1 0 0 0 1 1 1 0 0 0 0 1 1 1 0 1 0 0 0 0 0 0 0 0\n",
      " 0 0 0 1 0 1 0 1 0 0 0 1 0 0 0 1 1 0 0 1 1 0 1 0 0 0 0 0 0 0 0 0 0 0 0 0 0\n",
      " 1 0 1 1 1 0 1 1 1 0 0 0 0 1 0 0 1 1 0 1 0 0 0 0 1 0 0 0 0 0 0 1 1 0 0 1 0\n",
      " 1 0 1 0 0 0 1 0 0 1 1 0 1 1 1 1 1 0 0 0 0 1 0 0 0 0 0 1 0 1 0 0 0 0 0 1 1\n",
      " 0 0 0 1 1 0 0 0 0 1 0 0 0 0 0 0 1 0 0 1 0 0 0 0 0 1 0 0 0 0 0 0 0 0 1 1 1\n",
      " 0 1 1 0 0 0 0 0 1 1 0 0 1 0 0 1 0 0 1 1 1 0 1 1 0 0 0 0 0 0 1 1 0 0 1 0 1\n",
      " 0 1 0 0 0 1 0 1 0 1 0 0 1 1 0 0 0 0 0 0 1 0 1 0 0 0 1 1 0 0 1 0 0 0 0 1 1\n",
      " 1 1 0 0 0 1 0 0 1 0 0 0 1 0 0 0 0 1 0 0 0]\n"
     ]
    }
   ],
   "source": [
    "print(Y)"
   ]
  },
  {
   "cell_type": "code",
   "execution_count": 166,
   "metadata": {},
   "outputs": [],
   "source": [
    "def dist(x1, x2) :\n",
    "    return np.sqrt(sum((x1-x2)**2))"
   ]
  },
  {
   "cell_type": "code",
   "execution_count": 167,
   "metadata": {},
   "outputs": [],
   "source": [
    "def knn(X, Y, queryPoint, k = 5) :\n",
    "    vals = []\n",
    "    m = X.shape[0] # Total points\n",
    "    for i in range(m) :\n",
    "        d = dist(queryPoint, X[i])\n",
    "        vals.append((d, Y[i]))\n",
    "    vals = sorted(vals)\n",
    "    # Nearest/First k points\n",
    "    vals = vals[:k]\n",
    "    vals = np.array(vals)\n",
    "    # print(vals)\n",
    "    new_vals = np.unique(vals[:,1], return_counts = True)\n",
    "    # print(new_vals)\n",
    "    max_freq_index = new_vals[1].argmax()\n",
    "    pred = new_vals[0][max_freq_index]\n",
    "    return pred"
   ]
  },
  {
   "cell_type": "code",
   "execution_count": 189,
   "metadata": {},
   "outputs": [],
   "source": [
    "dftrain = pd.read_csv('Diabetes_Xtest.csv')"
   ]
  },
  {
   "cell_type": "code",
   "execution_count": 190,
   "metadata": {},
   "outputs": [],
   "source": [
    "scaler = preprocessing.StandardScaler()\n",
    "scaled_df = scaler.fit_transform(dftrain)\n",
    "dftrain = pd.DataFrame(scaled_df, columns=['Pregnancies', 'Glucose', 'BloodPressure', 'SkinThickness', 'Insulin', 'BMI', 'DiabetesPedigreeFunction', 'Age'])"
   ]
  },
  {
   "cell_type": "code",
   "execution_count": 191,
   "metadata": {},
   "outputs": [
    {
     "data": {
      "text/html": [
       "<div>\n",
       "<style scoped>\n",
       "    .dataframe tbody tr th:only-of-type {\n",
       "        vertical-align: middle;\n",
       "    }\n",
       "\n",
       "    .dataframe tbody tr th {\n",
       "        vertical-align: top;\n",
       "    }\n",
       "\n",
       "    .dataframe thead th {\n",
       "        text-align: right;\n",
       "    }\n",
       "</style>\n",
       "<table border=\"1\" class=\"dataframe\">\n",
       "  <thead>\n",
       "    <tr style=\"text-align: right;\">\n",
       "      <th></th>\n",
       "      <th>Pregnancies</th>\n",
       "      <th>Glucose</th>\n",
       "      <th>BloodPressure</th>\n",
       "      <th>SkinThickness</th>\n",
       "      <th>Insulin</th>\n",
       "      <th>BMI</th>\n",
       "      <th>DiabetesPedigreeFunction</th>\n",
       "      <th>Age</th>\n",
       "    </tr>\n",
       "  </thead>\n",
       "  <tbody>\n",
       "    <tr>\n",
       "      <th>0</th>\n",
       "      <td>-1.180700</td>\n",
       "      <td>1.699357</td>\n",
       "      <td>1.236071</td>\n",
       "      <td>0.307043</td>\n",
       "      <td>-0.005323</td>\n",
       "      <td>0.580570</td>\n",
       "      <td>-0.412980</td>\n",
       "      <td>0.079340</td>\n",
       "    </tr>\n",
       "    <tr>\n",
       "      <th>1</th>\n",
       "      <td>-0.605333</td>\n",
       "      <td>-0.924366</td>\n",
       "      <td>-0.366231</td>\n",
       "      <td>0.679373</td>\n",
       "      <td>0.528583</td>\n",
       "      <td>0.792893</td>\n",
       "      <td>0.739987</td>\n",
       "      <td>-0.977305</td>\n",
       "    </tr>\n",
       "    <tr>\n",
       "      <th>2</th>\n",
       "      <td>-0.605333</td>\n",
       "      <td>-0.291054</td>\n",
       "      <td>-0.119723</td>\n",
       "      <td>0.058823</td>\n",
       "      <td>-0.691775</td>\n",
       "      <td>-0.523509</td>\n",
       "      <td>-1.123976</td>\n",
       "      <td>-0.801198</td>\n",
       "    </tr>\n",
       "    <tr>\n",
       "      <th>3</th>\n",
       "      <td>2.559181</td>\n",
       "      <td>-1.437047</td>\n",
       "      <td>-0.612740</td>\n",
       "      <td>-1.306387</td>\n",
       "      <td>-0.691775</td>\n",
       "      <td>0.056841</td>\n",
       "      <td>-0.842139</td>\n",
       "      <td>0.607663</td>\n",
       "    </tr>\n",
       "    <tr>\n",
       "      <th>4</th>\n",
       "      <td>-0.893016</td>\n",
       "      <td>-1.316416</td>\n",
       "      <td>0.250039</td>\n",
       "      <td>-0.623782</td>\n",
       "      <td>-0.234140</td>\n",
       "      <td>-0.339495</td>\n",
       "      <td>0.269192</td>\n",
       "      <td>-1.065359</td>\n",
       "    </tr>\n",
       "  </tbody>\n",
       "</table>\n",
       "</div>"
      ],
      "text/plain": [
       "   Pregnancies   Glucose  BloodPressure  SkinThickness   Insulin       BMI  \\\n",
       "0    -1.180700  1.699357       1.236071       0.307043 -0.005323  0.580570   \n",
       "1    -0.605333 -0.924366      -0.366231       0.679373  0.528583  0.792893   \n",
       "2    -0.605333 -0.291054      -0.119723       0.058823 -0.691775 -0.523509   \n",
       "3     2.559181 -1.437047      -0.612740      -1.306387 -0.691775  0.056841   \n",
       "4    -0.893016 -1.316416       0.250039      -0.623782 -0.234140 -0.339495   \n",
       "\n",
       "   DiabetesPedigreeFunction       Age  \n",
       "0                 -0.412980  0.079340  \n",
       "1                  0.739987 -0.977305  \n",
       "2                 -1.123976 -0.801198  \n",
       "3                 -0.842139  0.607663  \n",
       "4                  0.269192 -1.065359  "
      ]
     },
     "execution_count": 191,
     "metadata": {},
     "output_type": "execute_result"
    }
   ],
   "source": [
    "dftrain.head()"
   ]
  },
  {
   "cell_type": "code",
   "execution_count": 192,
   "metadata": {},
   "outputs": [],
   "source": [
    "X_test = dftrain.values"
   ]
  },
  {
   "cell_type": "code",
   "execution_count": 193,
   "metadata": {},
   "outputs": [
    {
     "data": {
      "text/plain": [
       "(192, 8)"
      ]
     },
     "execution_count": 193,
     "metadata": {},
     "output_type": "execute_result"
    }
   ],
   "source": [
    "X_test.shape"
   ]
  },
  {
   "cell_type": "code",
   "execution_count": 220,
   "metadata": {},
   "outputs": [],
   "source": [
    "pred = []"
   ]
  },
  {
   "cell_type": "code",
   "execution_count": 221,
   "metadata": {},
   "outputs": [],
   "source": [
    "total_cases = X_test.shape[0]\n",
    "\n",
    "for i in range(total_cases) :\n",
    "    pred.append(int(knn(X, Y, X_test[i], 13)))"
   ]
  },
  {
   "cell_type": "code",
   "execution_count": 222,
   "metadata": {},
   "outputs": [
    {
     "name": "stdout",
     "output_type": "stream",
     "text": [
      "[1, 0, 0, 0, 0, 0, 1, 0, 0, 0, 1, 0, 1, 0, 1, 0, 0, 1, 0, 1, 0, 0, 0, 0, 0, 0, 0, 0, 0, 0, 0, 0, 1, 0, 0, 0, 0, 0, 0, 0, 1, 0, 0, 0, 1, 0, 0, 1, 0, 1, 1, 1, 0, 0, 1, 0, 1, 0, 0, 1, 1, 0, 0, 0, 1, 0, 0, 0, 0, 0, 0, 0, 0, 0, 0, 0, 0, 0, 0, 0, 0, 0, 0, 0, 0, 0, 1, 1, 0, 0, 1, 1, 0, 0, 1, 0, 0, 0, 0, 0, 1, 1, 0, 0, 0, 0, 1, 1, 0, 0, 1, 0, 1, 0, 0, 0, 0, 1, 0, 0, 0, 0, 0, 0, 0, 0, 1, 0, 1, 0, 1, 0, 0, 0, 0, 0, 0, 0, 1, 0, 0, 0, 1, 0, 1, 0, 0, 1, 0, 1, 0, 0, 1, 0, 0, 1, 0, 1, 0, 1, 0, 0, 0, 0, 0, 0, 0, 1, 0, 0, 0, 1, 0, 1, 0, 0, 0, 0, 0, 1, 0, 1, 0, 0, 1, 0, 0, 0, 0, 0, 0, 0]\n"
     ]
    }
   ],
   "source": [
    "print(pred)"
   ]
  },
  {
   "cell_type": "code",
   "execution_count": 223,
   "metadata": {},
   "outputs": [],
   "source": [
    "predictions = np.array(pred)"
   ]
  },
  {
   "cell_type": "code",
   "execution_count": 224,
   "metadata": {},
   "outputs": [
    {
     "name": "stdout",
     "output_type": "stream",
     "text": [
      "(192,)\n"
     ]
    }
   ],
   "source": [
    "print(predictions.shape)"
   ]
  },
  {
   "cell_type": "code",
   "execution_count": 225,
   "metadata": {},
   "outputs": [],
   "source": [
    "df_test = pd.DataFrame(predictions, dtype = 'uint8', columns = ['Outcome'])"
   ]
  },
  {
   "cell_type": "code",
   "execution_count": 226,
   "metadata": {},
   "outputs": [
    {
     "data": {
      "text/html": [
       "<div>\n",
       "<style scoped>\n",
       "    .dataframe tbody tr th:only-of-type {\n",
       "        vertical-align: middle;\n",
       "    }\n",
       "\n",
       "    .dataframe tbody tr th {\n",
       "        vertical-align: top;\n",
       "    }\n",
       "\n",
       "    .dataframe thead th {\n",
       "        text-align: right;\n",
       "    }\n",
       "</style>\n",
       "<table border=\"1\" class=\"dataframe\">\n",
       "  <thead>\n",
       "    <tr style=\"text-align: right;\">\n",
       "      <th></th>\n",
       "      <th>Outcome</th>\n",
       "    </tr>\n",
       "  </thead>\n",
       "  <tbody>\n",
       "    <tr>\n",
       "      <th>0</th>\n",
       "      <td>1</td>\n",
       "    </tr>\n",
       "    <tr>\n",
       "      <th>1</th>\n",
       "      <td>0</td>\n",
       "    </tr>\n",
       "    <tr>\n",
       "      <th>2</th>\n",
       "      <td>0</td>\n",
       "    </tr>\n",
       "    <tr>\n",
       "      <th>3</th>\n",
       "      <td>0</td>\n",
       "    </tr>\n",
       "    <tr>\n",
       "      <th>4</th>\n",
       "      <td>0</td>\n",
       "    </tr>\n",
       "  </tbody>\n",
       "</table>\n",
       "</div>"
      ],
      "text/plain": [
       "   Outcome\n",
       "0        1\n",
       "1        0\n",
       "2        0\n",
       "3        0\n",
       "4        0"
      ]
     },
     "execution_count": 226,
     "metadata": {},
     "output_type": "execute_result"
    }
   ],
   "source": [
    "df_test.head()"
   ]
  },
  {
   "cell_type": "code",
   "execution_count": 227,
   "metadata": {},
   "outputs": [],
   "source": [
    "df_test.to_csv('test_answers.csv', index = False)"
   ]
  },
  {
   "cell_type": "code",
   "execution_count": 202,
   "metadata": {},
   "outputs": [
    {
     "name": "stdout",
     "output_type": "stream",
     "text": [
      "460\n"
     ]
    }
   ],
   "source": [
    "split = int(0.8 * X.shape[0])\n",
    "print(split)"
   ]
  },
  {
   "cell_type": "code",
   "execution_count": 203,
   "metadata": {},
   "outputs": [
    {
     "name": "stdout",
     "output_type": "stream",
     "text": [
      "(460, 8) (460,)\n",
      "(116, 8) (116,)\n"
     ]
    }
   ],
   "source": [
    "x_train = X[:split, :]\n",
    "y_train = Y[:split]\n",
    "\n",
    "x_test = X[split:, :]\n",
    "y_test = Y[split:]\n",
    "\n",
    "print(x_train.shape, y_train.shape)\n",
    "print(x_test.shape, y_test.shape)"
   ]
  },
  {
   "cell_type": "code",
   "execution_count": 204,
   "metadata": {},
   "outputs": [
    {
     "name": "stdout",
     "output_type": "stream",
     "text": [
      "76.72413793103448\n"
     ]
    }
   ],
   "source": [
    "total_cases = x_test.shape[0]\n",
    "correct_pred2 = 0\n",
    "\n",
    "for i in range(total_cases) :\n",
    "    pred = int(knn(X, Y, x_test[i], 10))\n",
    "    actual = y_test[i]\n",
    "    if pred == actual :\n",
    "        correct_pred2 += 1\n",
    "\n",
    "print(correct_pred2 * 100 / total_cases)"
   ]
  },
  {
   "cell_type": "code",
   "execution_count": null,
   "metadata": {},
   "outputs": [],
   "source": [
    "for k in range(1, 100, 2) :\n",
    "    total_cases = x_test.shape[0]\n",
    "    correct_pred2 = 0\n",
    "\n",
    "    for i in range(total_cases) :\n",
    "        pred = int(knn(X, Y, x_test[i], k))\n",
    "        actual = y_test[i]\n",
    "        if pred == actual :\n",
    "            correct_pred2 += 1\n",
    "\n",
    "    print(k, correct_pred2 * 100 / total_cases)"
   ]
  },
  {
   "cell_type": "code",
   "execution_count": 208,
   "metadata": {},
   "outputs": [
    {
     "name": "stdout",
     "output_type": "stream",
     "text": [
      "1 100.0\n",
      "3 83.62068965517241\n",
      "5 82.75862068965517\n",
      "7 81.03448275862068\n",
      "9 78.44827586206897\n",
      "11 77.58620689655173\n",
      "13 76.72413793103448\n",
      "15 76.72413793103448\n",
      "17 75.0\n",
      "19 77.58620689655173\n",
      "21 77.58620689655173\n",
      "23 76.72413793103448\n",
      "25 72.41379310344827\n",
      "27 74.13793103448276\n",
      "29 76.72413793103448\n",
      "31 75.86206896551724\n",
      "33 75.0\n",
      "35 75.86206896551724\n",
      "37 74.13793103448276\n",
      "39 74.13793103448276\n",
      "41 75.86206896551724\n",
      "43 75.0\n",
      "45 74.13793103448276\n",
      "47 73.27586206896552\n",
      "49 74.13793103448276\n",
      "51 74.13793103448276\n",
      "53 75.0\n",
      "55 75.86206896551724\n",
      "57 75.86206896551724\n",
      "59 75.86206896551724\n",
      "61 75.86206896551724\n",
      "63 75.86206896551724\n",
      "65 76.72413793103448\n",
      "67 75.86206896551724\n",
      "69 75.0\n",
      "71 75.86206896551724\n",
      "73 75.0\n",
      "75 75.0\n",
      "77 75.0\n",
      "79 75.86206896551724\n",
      "81 75.0\n",
      "83 75.0\n",
      "85 74.13793103448276\n",
      "87 74.13793103448276\n",
      "89 74.13793103448276\n",
      "91 74.13793103448276\n",
      "93 73.27586206896552\n",
      "95 74.13793103448276\n",
      "97 74.13793103448276\n",
      "99 74.13793103448276\n"
     ]
    }
   ],
   "source": [
    "for k in range(1, 100, 2) :\n",
    "    total_cases = x_test.shape[0]\n",
    "    correct_pred2 = 0\n",
    "\n",
    "    for i in range(total_cases) :\n",
    "        pred = int(knn(X, Y, x_test[i], k))\n",
    "        actual = y_test[i]\n",
    "        if pred == actual :\n",
    "            correct_pred2 += 1\n",
    "\n",
    "    print(k, correct_pred2 * 100 / total_cases)"
   ]
  },
  {
   "cell_type": "code",
   "execution_count": null,
   "metadata": {},
   "outputs": [],
   "source": []
  }
 ],
 "metadata": {
  "kernelspec": {
   "display_name": "Python 3",
   "language": "python",
   "name": "python3"
  },
  "language_info": {
   "codemirror_mode": {
    "name": "ipython",
    "version": 3
   },
   "file_extension": ".py",
   "mimetype": "text/x-python",
   "name": "python",
   "nbconvert_exporter": "python",
   "pygments_lexer": "ipython3",
   "version": "3.8.2"
  }
 },
 "nbformat": 4,
 "nbformat_minor": 4
}
